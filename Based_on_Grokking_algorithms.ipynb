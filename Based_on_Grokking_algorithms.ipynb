{
 "cells": [
  {
   "cell_type": "markdown",
   "metadata": {},
   "source": [
    "## На базе разбора книги \"Грокаем алгоритмы\". Разобрано больше, потому как в книге информации мало и многие вещи разобраны довольно слабо."
   ]
  },
  {
   "cell_type": "markdown",
   "metadata": {},
   "source": [
    "### 1. Бинарный поиск\n",
    "- Массив должен быть отсортирован\n",
    "- Сложность $O(log_2n)$"
   ]
  },
  {
   "cell_type": "code",
   "execution_count": 77,
   "metadata": {},
   "outputs": [],
   "source": [
    "def binary_search(data: list, question: int) -> int:\n",
    "    low = 0 # инициализируем левую границу\n",
    "    high = len(data)-1 # инициализируем правую границу\n",
    "    while low <= high: # до тех пор, пока левая граница меньше или равна правой\n",
    "        mid = (high+low)//2 # делим пополам, выбираем центральный элемент\n",
    "        if question == data[mid]: # если совпало - выходим\n",
    "            return mid\n",
    "        elif data[mid] > question: # если центральнй элемент больше, уменьшаем правую границу\n",
    "            high = mid - 1\n",
    "        else: # если центральный элемент меньше, увеличиваем левую границу.\n",
    "            low = mid + 1 \n",
    "    return None # если ничего не нашлось, возвращаем None"
   ]
  },
  {
   "cell_type": "code",
   "execution_count": 78,
   "metadata": {},
   "outputs": [
    {
     "name": "stdout",
     "output_type": "stream",
     "text": [
      "['a', 'b', 'c', 'd', 'e', 'f', 'g', 'h', 'i', 'j', 'k', 'l', 'm', 'n', 'o', 'p', 'q', 'r', 's', 't', 'u', 'v', 'w', 'x', 'y', 'z']\n",
      "У буквы j индекс - 9\n"
     ]
    }
   ],
   "source": [
    "import string\n",
    "test_array = [letter for letter in string.ascii_lowercase]\n",
    "print(test_array)\n",
    "print('У буквы j индекс -', binary_search(test_array, 'j'))"
   ]
  },
  {
   "cell_type": "markdown",
   "metadata": {},
   "source": [
    "### 2. Сортировка пузырьком.\n",
    "- Сложность $O(n^2)$\n",
    "- Используется только как обучающий.\n",
    "- Есть улучшающие модификации"
   ]
  },
  {
   "cell_type": "code",
   "execution_count": 87,
   "metadata": {},
   "outputs": [],
   "source": [
    "def bubble_sort(data: list) -> list:\n",
    "    for i in range(len(data)-1): # Внешний цикл, n-1 проходов.\n",
    "        for j in range(len(data)-i-1): # Внутренний цикл. n-i-1 сравнений.\n",
    "            if data[j] > data[j+1]: \n",
    "                data[j], data[j+1] = data[j+1], data[j] # каждая пара сортируется по возрастанию\n",
    "    return data"
   ]
  },
  {
   "cell_type": "code",
   "execution_count": 88,
   "metadata": {},
   "outputs": [
    {
     "name": "stdout",
     "output_type": "stream",
     "text": [
      "[32, 42, 26, 0, 49, 29, 35, 45, 8, 40, 43, 10, 41, 22, 31, 18, 5, 47, 37, 17, 11, 38, 9, 20, 1, 36, 3, 12, 15, 6, 44, 28, 33, 34, 30, 4, 16, 7, 24, 19, 46, 48, 25, 13, 2, 23, 27, 14, 39, 21]\n",
      "[0, 1, 2, 3, 4, 5, 6, 7, 8, 9, 10, 11, 12, 13, 14, 15, 16, 17, 18, 19, 20, 21, 22, 23, 24, 25, 26, 27, 28, 29, 30, 31, 32, 33, 34, 35, 36, 37, 38, 39, 40, 41, 42, 43, 44, 45, 46, 47, 48, 49]\n"
     ]
    }
   ],
   "source": [
    "import random\n",
    "bs_test_array = [i for i in range(50)]\n",
    "random.shuffle(bs_test_array)\n",
    "print(bs_test_array)\n",
    "print(bubble_sort(bs_test_array))"
   ]
  },
  {
   "cell_type": "code",
   "execution_count": 89,
   "metadata": {},
   "outputs": [],
   "source": [
    "# Можно немного сократить количество операций, проверяя были ли перестановки.\n",
    "# И если перестановок в цикле не было ни одной - завершать работу.\n",
    "\n",
    "def better_bubble_sort(data: list):\n",
    "    n = len(data)\n",
    "    swapped = True # Флаг, были ли перестановки.\n",
    "    i = -1 # Счетчик для внутреннего цикла\n",
    "    \n",
    "    while swapped: # если перестановки были, продолжаем цикл\n",
    "        i +=1\n",
    "        swapped = False\n",
    "        for j in range(n-i-1):\n",
    "            if data[j] > data[j+1]:\n",
    "                data[j],data[j+1] = data[j+1],data[j]\n",
    "                swapped = True\n",
    "    return data"
   ]
  },
  {
   "cell_type": "code",
   "execution_count": 90,
   "metadata": {},
   "outputs": [
    {
     "name": "stdout",
     "output_type": "stream",
     "text": [
      "[15, 27, 21, 40, 0, 23, 6, 17, 25, 36, 9, 31, 11, 2, 32, 37, 5, 38, 49, 1, 16, 33, 20, 18, 45, 42, 8, 19, 3, 41, 28, 12, 26, 22, 14, 44, 48, 39, 43, 35, 34, 24, 13, 29, 30, 10, 4, 47, 46, 7]\n",
      "[0, 1, 2, 3, 4, 5, 6, 7, 8, 9, 10, 11, 12, 13, 14, 15, 16, 17, 18, 19, 20, 21, 22, 23, 24, 25, 26, 27, 28, 29, 30, 31, 32, 33, 34, 35, 36, 37, 38, 39, 40, 41, 42, 43, 44, 45, 46, 47, 48, 49]\n"
     ]
    }
   ],
   "source": [
    "bs_test_array = [i for i in range(50)]\n",
    "random.shuffle(bs_test_array)\n",
    "print(bs_test_array)\n",
    "print(better_bubble_sort(bs_test_array))"
   ]
  },
  {
   "cell_type": "code",
   "execution_count": 92,
   "metadata": {},
   "outputs": [
    {
     "name": "stdout",
     "output_type": "stream",
     "text": [
      "13.8 s ± 59.4 ms per loop (mean ± std. dev. of 7 runs, 1 loop each)\n"
     ]
    }
   ],
   "source": [
    "%%timeit\n",
    "test_array = list(range(10000))\n",
    "random.shuffle(test_array)\n",
    "better_bubble_sort(test_array)"
   ]
  },
  {
   "cell_type": "markdown",
   "metadata": {},
   "source": [
    "### 3. Сортировка выбором.\n",
    "- Быстрее пузырьковой сортировки, поскольку смена позиций элементов происходит только 1 раз во внутреннем цикле\n",
    "- Всё так же нестабильна как и пузырьковая\n",
    "- Сложность также $O(n^2)$ в худшем случае"
   ]
  },
  {
   "cell_type": "code",
   "execution_count": 94,
   "metadata": {},
   "outputs": [],
   "source": [
    "def selection_sort(data: list) -> list:\n",
    "    for i in range(len(data)):\n",
    "        min_idx = i\n",
    "        for j in range(i+1, len(data)): # находим индекс минимального элемента в списке\n",
    "            if data[j] < data[min_idx]:\n",
    "                min_idx = j\n",
    "        data[i],data[min_idx] = data[min_idx],data[i] # меняем текущий элемент с минимальным местами\n",
    "    return data"
   ]
  },
  {
   "cell_type": "code",
   "execution_count": 95,
   "metadata": {},
   "outputs": [
    {
     "name": "stdout",
     "output_type": "stream",
     "text": [
      "5.56 s ± 31.5 ms per loop (mean ± std. dev. of 7 runs, 1 loop each)\n"
     ]
    }
   ],
   "source": [
    "%%timeit\n",
    "test_array = list(range(10000))\n",
    "random.shuffle(test_array)\n",
    "selection_sort(test_array)"
   ]
  },
  {
   "cell_type": "markdown",
   "metadata": {},
   "source": [
    "### 4. Быстрая сортировка\n",
    "- Рекурсивный алгоритм\n",
    "- Худшее время $O(n^2)$\n",
    "- Среднее время, оно же лучшее $O(n*log n)$"
   ]
  },
  {
   "cell_type": "code",
   "execution_count": 96,
   "metadata": {},
   "outputs": [],
   "source": [
    "def quick_sort(data: list) -> list:\n",
    "    if len(data) < 2: # Базовый случай. Длина массива меньше двух.\n",
    "        return data\n",
    "    else:\n",
    "        pivot = data.pop(random.randint(0,len(data)-1)) # выбираем случайный опорный элемент\n",
    "        lesser = [elem for elem in data if elem < pivot] # массив элементов меньше опорного\n",
    "        greater = [elem for elem in data if elem >= pivot] # массив элементов больше опорного\n",
    "        return quick_sort(lesser) + [pivot] + quick_sort(greater) # дважды рекурсивно вызываем сортировку и конкатенируем результаты с опорным элементом."
   ]
  },
  {
   "cell_type": "code",
   "execution_count": 97,
   "metadata": {},
   "outputs": [
    {
     "name": "stdout",
     "output_type": "stream",
     "text": [
      "46.6 ms ± 951 µs per loop (mean ± std. dev. of 7 runs, 10 loops each)\n"
     ]
    }
   ],
   "source": [
    "%%timeit\n",
    "test_array = list(range(10000))\n",
    "random.shuffle(test_array)\n",
    "quick_sort(test_array)"
   ]
  },
  {
   "cell_type": "markdown",
   "metadata": {},
   "source": [
    "#### 4a. Быстрая сортировка без использования дополнительной памяти. С разбиением Хоара."
   ]
  },
  {
   "cell_type": "code",
   "execution_count": 98,
   "metadata": {},
   "outputs": [],
   "source": [
    "def true_quicksort(data: list):\n",
    "    # пока размер массива больше 1 разбиваем массив на части и рекурсивно применяем эту же функцию\n",
    "    def hoar_sort(data: list, low: int, high: int):\n",
    "        if low < high:\n",
    "            pivot = partition(data, low, high)\n",
    "            hoar_sort(data, low, pivot)\n",
    "            hoar_sort(data, pivot+1, high)\n",
    "    \n",
    "    # разбиене Хоара. Двигаемся с двух сторон, меняем местами элементы больше и меньше опорного.\n",
    "    # возвращаем индекс опорного элемента в пересортированном массиве        \n",
    "    def partition(data: list, low, high):\n",
    "        pivot = data[random.randint(low,high)]\n",
    "        \n",
    "        while True:\n",
    "            while data[low] < pivot:\n",
    "                low += 1\n",
    "            while data[high] > pivot:\n",
    "                high -= 1\n",
    "            if low >= high:\n",
    "                return low\n",
    "            data[low],data[high] = data[high],data[low]\n",
    "            \n",
    "    hoar_sort(data, 0, len(data)-1)"
   ]
  },
  {
   "cell_type": "code",
   "execution_count": 99,
   "metadata": {},
   "outputs": [
    {
     "name": "stdout",
     "output_type": "stream",
     "text": [
      "77.9 ms ± 1.76 ms per loop (mean ± std. dev. of 7 runs, 10 loops each)\n"
     ]
    }
   ],
   "source": [
    "%%timeit\n",
    "test_array = list(range(10000))\n",
    "random.shuffle(test_array)\n",
    "true_quicksort(test_array)"
   ]
  },
  {
   "cell_type": "markdown",
   "metadata": {},
   "source": [
    "### 5. Сортировка вставками\n",
    "- Временная сложность $O(n^2)$"
   ]
  },
  {
   "cell_type": "code",
   "execution_count": 100,
   "metadata": {},
   "outputs": [],
   "source": [
    "def insertion_sort(data: list):\n",
    "    # цикл от 1 до конца массива.\n",
    "    for i in range(1,len(data)):\n",
    "        # сохраняем ключевой элемент(каждый раз новый)\n",
    "        key = data[i]\n",
    "        j = i-1 # смещаемся на 1 элемент назад\n",
    "        # далее поочерёдно проверяем элементы от текущего положения\n",
    "        # до начала массива. Если элемент больше ключевого, то смещаем его на 1 позицию вправо.\n",
    "        # после этого уменьшаем индекс и проверяем следующий элемент. Если и он больше ключевого,\n",
    "        # смещаем его тоже на 1 позицию вправо. И так до тех пор, пока не наткнемся на элемент меньше или равный ключевому,\n",
    "        # или доберёмся до начала массива. \n",
    "        # Таким образом мы последовательно смещаем весь массив со значениями больше ключевого - вправо.\n",
    "        while (j >= 0) and (data[j] > key):\n",
    "            data[j+1] = data[j]\n",
    "            j -=1\n",
    "        # и наконец вставляем ключевой элемент на нужную позицию (элемент слева - меньше или равен ключевому, элементы справ - больше)\n",
    "        data[j+1] = key"
   ]
  },
  {
   "cell_type": "code",
   "execution_count": 101,
   "metadata": {},
   "outputs": [
    {
     "name": "stdout",
     "output_type": "stream",
     "text": [
      "7.01 s ± 31.5 ms per loop (mean ± std. dev. of 7 runs, 1 loop each)\n"
     ]
    }
   ],
   "source": [
    "%%timeit\n",
    "test_array = list(range(10000))\n",
    "random.shuffle(test_array)\n",
    "insertion_sort(test_array)"
   ]
  },
  {
   "cell_type": "markdown",
   "metadata": {},
   "source": [
    "### 6. Сортировка слиянием\n",
    " - временная сложность $O(n\\cdot logn)$\n",
    " - константы больше чем у quicksort, поэтому работает в среднем чуть медленнее\n",
    " - требует дополнительной памяти, столько же, сколько занимает исходный массив\n",
    " - спокойно работае с данными, поддерживающими только последовательный доступ(связанные списки)"
   ]
  },
  {
   "cell_type": "code",
   "execution_count": 102,
   "metadata": {},
   "outputs": [],
   "source": [
    "def merge_sort(data: list):\n",
    "    # Базовый случай, массив размера меньше 2 уже отсортирован.\n",
    "    if len(data) < 2:\n",
    "        return data\n",
    "    # Делим массив на две примерно равные части\n",
    "    L = merge_sort(data[:len(data) // 2])\n",
    "    R = merge_sort(data[len(data) // 2:]) \n",
    "    # Переменные для индексов правого, левого и результирующего массивов\n",
    "    n = m = k = 0\n",
    "    # Создаём результирующий массив, такого же размера, как исходный.\n",
    "    C = [0] * (len(L) + len(R))\n",
    "    # Непосредственно само слияние массивов\n",
    "    while n < len(L) and m < len(R): # пока не пройден хотя бы один из двух массивов полностью.\n",
    "        # Сравниваем элементы двух массивов.\n",
    "        # Меньший из них записываем в результирующий массив. \n",
    "        # Увеличиваем индекс этого подмассива и результирующего массива на единицу\n",
    "        if L[n] <= R[m]:\n",
    "            C[k] = L[n]\n",
    "            n += 1\n",
    "        else:\n",
    "            C[k] = R[m]\n",
    "            m += 1\n",
    "        k += 1\n",
    "    # Прикрепляем \"остатки\"\n",
    "    # Если любой из подмассивов закончился, а другой ещё нет,\n",
    "    # Добавляем все элементы оставшегося подмассива в результирующий.\n",
    "    while n < len(L):\n",
    "        C[k] = L[n]\n",
    "        n += 1\n",
    "        k += 1\n",
    "    while m < len(R):\n",
    "        C[k] = R[m]\n",
    "        m += 1\n",
    "        k += 1\n",
    "    # Переписываем исходный массив и возвращаем его.\n",
    "    for i in range(len(data)):\n",
    "        data[i] = C[i]\n",
    "    return data"
   ]
  },
  {
   "cell_type": "code",
   "execution_count": 103,
   "metadata": {},
   "outputs": [
    {
     "name": "stdout",
     "output_type": "stream",
     "text": [
      "98 ms ± 852 µs per loop (mean ± std. dev. of 7 runs, 10 loops each)\n"
     ]
    }
   ],
   "source": [
    "%%timeit\n",
    "test_array = list(range(10000))\n",
    "random.shuffle(test_array)\n",
    "merge_sort(test_array)"
   ]
  },
  {
   "cell_type": "markdown",
   "metadata": {},
   "source": [
    "### 7. Timsort.\n",
    "- Объединяет сортировку вставками и сортировку слиянием\n",
    "- Реализация сложная, разберу позже. Будет мне челленджем.\n",
    "- Основная идея - поиск уже отсортированных подмассивов в исходном массиве. Логично предполагается, что в реальной жизни большинство массивов, требующих сортировки, содержат в себе большое количество уже отсортированных подмассивов, и на их сортировку не нужно тратить времени. Можно сразу слияние осуществлять."
   ]
  },
  {
   "cell_type": "markdown",
   "metadata": {},
   "source": [
    "## Графы"
   ]
  },
  {
   "cell_type": "markdown",
   "metadata": {},
   "source": [
    "### 8. Поиск в ширину. (Breadth-Frist Search)\n",
    "- Последовательно проходит по всем соседям исходного узла, затем по соседям каждого из них и т.д.\n",
    "- используется очередь. LIFO. В python удобно deque из collections использовать.\n",
    "- Сложность $O(V+E)$, где V - число вершин(узлов), E - число рёбер\n",
    "  "
   ]
  },
  {
   "cell_type": "code",
   "execution_count": 104,
   "metadata": {},
   "outputs": [],
   "source": [
    "import graphviz\n",
    "from collections import deque"
   ]
  },
  {
   "cell_type": "code",
   "execution_count": 105,
   "metadata": {},
   "outputs": [
    {
     "data": {
      "text/plain": [
       "{'you': ['alice', 'bob', 'claire'],\n",
       " 'bob': ['anuj', 'peggy', 'you'],\n",
       " 'alice': ['peggy', 'you'],\n",
       " 'claire': ['thom', 'jonny', 'you'],\n",
       " 'anuj': ['bob'],\n",
       " 'peggy': ['bob', 'alice'],\n",
       " 'thom': ['claire'],\n",
       " 'jonny': ['claire']}"
      ]
     },
     "execution_count": 105,
     "metadata": {},
     "output_type": "execute_result"
    }
   ],
   "source": [
    "# Опишем граф в виде словаря списков\n",
    "graph = {}\n",
    "graph['you'] = ['alice','bob','claire']\n",
    "graph['bob'] = ['anuj','peggy','you']\n",
    "graph['alice'] = ['peggy','you']\n",
    "graph['claire'] = ['thom','jonny','you']\n",
    "graph['anuj'] = ['bob']\n",
    "graph['peggy'] = ['bob','alice']\n",
    "graph['thom'] = ['claire']\n",
    "graph['jonny'] = ['claire']\n",
    "graph"
   ]
  },
  {
   "cell_type": "code",
   "execution_count": 106,
   "metadata": {},
   "outputs": [
    {
     "data": {
      "text/plain": [
       "{'claire': False,\n",
       " 'thom': False,\n",
       " 'alice': False,\n",
       " 'you': False,\n",
       " 'jonny': False,\n",
       " 'anuj': True,\n",
       " 'peggy': False,\n",
       " 'bob': False}"
      ]
     },
     "execution_count": 106,
     "metadata": {},
     "output_type": "execute_result"
    }
   ],
   "source": [
    "# Словарь с информацией о том является ли человек продавцом\n",
    "mango_seller_info = {}\n",
    "for name in set(name for name in graph):\n",
    "    mango_seller_info.setdefault(name,False)\n",
    "mango_seller_info['anuj'] = True\n",
    "mango_seller_info"
   ]
  },
  {
   "cell_type": "code",
   "execution_count": 107,
   "metadata": {},
   "outputs": [
    {
     "data": {
      "image/svg+xml": "<?xml version=\"1.0\" encoding=\"UTF-8\" standalone=\"no\"?>\n<!DOCTYPE svg PUBLIC \"-//W3C//DTD SVG 1.1//EN\"\n \"http://www.w3.org/Graphics/SVG/1.1/DTD/svg11.dtd\">\n<!-- Generated by graphviz version 2.50.0 (0)\n -->\n<!-- Title: test_graph Pages: 1 -->\n<svg width=\"297pt\" height=\"332pt\"\n viewBox=\"0.00 0.00 296.64 332.00\" xmlns=\"http://www.w3.org/2000/svg\" xmlns:xlink=\"http://www.w3.org/1999/xlink\">\n<g id=\"graph0\" class=\"graph\" transform=\"scale(1 1) rotate(0) translate(4 328)\">\n<title>test_graph</title>\n<polygon fill=\"white\" stroke=\"transparent\" points=\"-4,4 -4,-328 292.64,-328 292.64,4 -4,4\"/>\n<!-- You -->\n<g id=\"node1\" class=\"node\">\n<title>You</title>\n<ellipse fill=\"none\" stroke=\"black\" cx=\"103.15\" cy=\"-306\" rx=\"27\" ry=\"18\"/>\n<text text-anchor=\"middle\" x=\"103.15\" y=\"-302.3\" font-family=\"Times New Roman,serif\" font-size=\"14.00\">You</text>\n</g>\n<!-- Alice -->\n<g id=\"node2\" class=\"node\">\n<title>Alice</title>\n<ellipse fill=\"none\" stroke=\"black\" cx=\"34.15\" cy=\"-234\" rx=\"30.59\" ry=\"18\"/>\n<text text-anchor=\"middle\" x=\"34.15\" y=\"-230.3\" font-family=\"Times New Roman,serif\" font-size=\"14.00\">Alice</text>\n</g>\n<!-- You&#45;&gt;Alice -->\n<g id=\"edge1\" class=\"edge\">\n<title>You&#45;&gt;Alice</title>\n<path fill=\"none\" stroke=\"black\" d=\"M85.13,-292.16C74.63,-282.89 61.65,-270.09 51.31,-258.95\"/>\n<polygon fill=\"black\" stroke=\"black\" points=\"53.62,-256.29 44.33,-251.21 48.43,-260.98 53.62,-256.29\"/>\n</g>\n<!-- Bob -->\n<g id=\"node3\" class=\"node\">\n<title>Bob</title>\n<ellipse fill=\"none\" stroke=\"black\" cx=\"68.15\" cy=\"-90\" rx=\"27\" ry=\"18\"/>\n<text text-anchor=\"middle\" x=\"68.15\" y=\"-86.3\" font-family=\"Times New Roman,serif\" font-size=\"14.00\">Bob</text>\n</g>\n<!-- You&#45;&gt;Bob -->\n<g id=\"edge2\" class=\"edge\">\n<title>You&#45;&gt;Bob</title>\n<path fill=\"none\" stroke=\"black\" d=\"M96.56,-288.21C86.95,-251.34 72.23,-163.04 67.91,-118.17\"/>\n<polygon fill=\"black\" stroke=\"black\" points=\"71.38,-117.68 67.07,-108.01 64.41,-118.27 71.38,-117.68\"/>\n</g>\n<!-- Claire -->\n<g id=\"node4\" class=\"node\">\n<title>Claire</title>\n<ellipse fill=\"none\" stroke=\"black\" cx=\"173.15\" cy=\"-234\" rx=\"33.29\" ry=\"18\"/>\n<text text-anchor=\"middle\" x=\"173.15\" y=\"-230.3\" font-family=\"Times New Roman,serif\" font-size=\"14.00\">Claire</text>\n</g>\n<!-- You&#45;&gt;Claire -->\n<g id=\"edge3\" class=\"edge\">\n<title>You&#45;&gt;Claire</title>\n<path fill=\"none\" stroke=\"black\" d=\"M113.27,-289.12C122.03,-279.22 134.71,-266.38 146.24,-255.69\"/>\n<polygon fill=\"black\" stroke=\"black\" points=\"148.9,-258 153.97,-248.7 144.2,-252.81 148.9,-258\"/>\n</g>\n<!-- Alice&#45;&gt;You -->\n<g id=\"edge8\" class=\"edge\">\n<title>Alice&#45;&gt;You</title>\n<path fill=\"none\" stroke=\"black\" d=\"M52.87,-248.47C63.38,-257.81 76.21,-270.5 86.39,-281.49\"/>\n<polygon fill=\"black\" stroke=\"black\" points=\"83.96,-284.02 93.25,-289.12 89.16,-279.34 83.96,-284.02\"/>\n</g>\n<!-- Peggy -->\n<g id=\"node6\" class=\"node\">\n<title>Peggy</title>\n<ellipse fill=\"none\" stroke=\"black\" cx=\"33.15\" cy=\"-162\" rx=\"33.29\" ry=\"18\"/>\n<text text-anchor=\"middle\" x=\"33.15\" y=\"-158.3\" font-family=\"Times New Roman,serif\" font-size=\"14.00\">Peggy</text>\n</g>\n<!-- Alice&#45;&gt;Peggy -->\n<g id=\"edge7\" class=\"edge\">\n<title>Alice&#45;&gt;Peggy</title>\n<path fill=\"none\" stroke=\"black\" d=\"M28.03,-216.05C27.08,-208.23 26.71,-198.75 26.94,-189.98\"/>\n<polygon fill=\"black\" stroke=\"black\" points=\"30.45,-189.97 27.53,-179.79 23.46,-189.57 30.45,-189.97\"/>\n</g>\n<!-- Bob&#45;&gt;You -->\n<g id=\"edge6\" class=\"edge\">\n<title>Bob&#45;&gt;You</title>\n<path fill=\"none\" stroke=\"black\" d=\"M74.7,-107.64C84.29,-144.37 99.02,-232.67 103.36,-277.66\"/>\n<polygon fill=\"black\" stroke=\"black\" points=\"99.9,-278.18 104.22,-287.85 106.87,-277.59 99.9,-278.18\"/>\n</g>\n<!-- Anuj -->\n<g id=\"node5\" class=\"node\">\n<title>Anuj</title>\n<ellipse fill=\"none\" stroke=\"black\" cx=\"68.15\" cy=\"-18\" rx=\"28.7\" ry=\"18\"/>\n<text text-anchor=\"middle\" x=\"68.15\" y=\"-14.3\" font-family=\"Times New Roman,serif\" font-size=\"14.00\">Anuj</text>\n</g>\n<!-- Bob&#45;&gt;Anuj -->\n<g id=\"edge4\" class=\"edge\">\n<title>Bob&#45;&gt;Anuj</title>\n<path fill=\"none\" stroke=\"black\" d=\"M62.31,-72.41C61.44,-64.51 61.2,-54.85 61.56,-45.94\"/>\n<polygon fill=\"black\" stroke=\"black\" points=\"65.05,-46.18 62.27,-35.96 58.07,-45.68 65.05,-46.18\"/>\n</g>\n<!-- Bob&#45;&gt;Peggy -->\n<g id=\"edge5\" class=\"edge\">\n<title>Bob&#45;&gt;Peggy</title>\n<path fill=\"none\" stroke=\"black\" d=\"M65.55,-107.96C62.13,-116.62 56.98,-127.31 51.69,-136.82\"/>\n<polygon fill=\"black\" stroke=\"black\" points=\"48.66,-135.07 46.63,-145.46 54.71,-138.6 48.66,-135.07\"/>\n</g>\n<!-- Claire&#45;&gt;You -->\n<g id=\"edge11\" class=\"edge\">\n<title>Claire&#45;&gt;You</title>\n<path fill=\"none\" stroke=\"black\" d=\"M162.74,-251.21C153.67,-261.43 140.52,-274.68 128.79,-285.48\"/>\n<polygon fill=\"black\" stroke=\"black\" points=\"126.45,-282.88 121.35,-292.16 131.13,-288.09 126.45,-282.88\"/>\n</g>\n<!-- Thom -->\n<g id=\"node7\" class=\"node\">\n<title>Thom</title>\n<ellipse fill=\"none\" stroke=\"black\" cx=\"173.15\" cy=\"-162\" rx=\"32.49\" ry=\"18\"/>\n<text text-anchor=\"middle\" x=\"173.15\" y=\"-158.3\" font-family=\"Times New Roman,serif\" font-size=\"14.00\">Thom</text>\n</g>\n<!-- Claire&#45;&gt;Thom -->\n<g id=\"edge9\" class=\"edge\">\n<title>Claire&#45;&gt;Thom</title>\n<path fill=\"none\" stroke=\"black\" d=\"M167.27,-216.05C166.44,-208.23 166.2,-198.75 166.56,-189.98\"/>\n<polygon fill=\"black\" stroke=\"black\" points=\"170.06,-190.01 167.29,-179.79 163.08,-189.51 170.06,-190.01\"/>\n</g>\n<!-- Jonny -->\n<g id=\"node8\" class=\"node\">\n<title>Jonny</title>\n<ellipse fill=\"none\" stroke=\"black\" cx=\"256.15\" cy=\"-162\" rx=\"32.49\" ry=\"18\"/>\n<text text-anchor=\"middle\" x=\"256.15\" y=\"-158.3\" font-family=\"Times New Roman,serif\" font-size=\"14.00\">Jonny</text>\n</g>\n<!-- Claire&#45;&gt;Jonny -->\n<g id=\"edge10\" class=\"edge\">\n<title>Claire&#45;&gt;Jonny</title>\n<path fill=\"none\" stroke=\"black\" d=\"M186.22,-217.12C197.34,-206.73 213.38,-193.11 227.38,-182.12\"/>\n<polygon fill=\"black\" stroke=\"black\" points=\"229.54,-184.88 235.33,-176.01 225.27,-179.33 229.54,-184.88\"/>\n</g>\n<!-- Anuj&#45;&gt;Bob -->\n<g id=\"edge12\" class=\"edge\">\n<title>Anuj&#45;&gt;Bob</title>\n<path fill=\"none\" stroke=\"black\" d=\"M74.03,-35.96C74.86,-43.83 75.1,-53.37 74.73,-62.19\"/>\n<polygon fill=\"black\" stroke=\"black\" points=\"71.22,-62.18 73.99,-72.41 78.2,-62.69 71.22,-62.18\"/>\n</g>\n<!-- Peggy&#45;&gt;Alice -->\n<g id=\"edge14\" class=\"edge\">\n<title>Peggy&#45;&gt;Alice</title>\n<path fill=\"none\" stroke=\"black\" d=\"M39.25,-179.79C40.2,-187.59 40.58,-197.07 40.36,-205.85\"/>\n<polygon fill=\"black\" stroke=\"black\" points=\"36.85,-205.87 39.78,-216.05 43.84,-206.27 36.85,-205.87\"/>\n</g>\n<!-- Peggy&#45;&gt;Bob -->\n<g id=\"edge13\" class=\"edge\">\n<title>Peggy&#45;&gt;Bob</title>\n<path fill=\"none\" stroke=\"black\" d=\"M35.74,-144.05C39.22,-135.22 44.51,-124.28 49.91,-114.63\"/>\n<polygon fill=\"black\" stroke=\"black\" points=\"53,-116.28 55.06,-105.89 46.97,-112.73 53,-116.28\"/>\n</g>\n<!-- Thom&#45;&gt;Claire -->\n<g id=\"edge15\" class=\"edge\">\n<title>Thom&#45;&gt;Claire</title>\n<path fill=\"none\" stroke=\"black\" d=\"M179.01,-179.79C179.85,-187.59 180.09,-197.07 179.74,-205.85\"/>\n<polygon fill=\"black\" stroke=\"black\" points=\"176.24,-205.83 179.03,-216.05 183.22,-206.33 176.24,-205.83\"/>\n</g>\n<!-- Jonny&#45;&gt;Claire -->\n<g id=\"edge16\" class=\"edge\">\n<title>Jonny&#45;&gt;Claire</title>\n<path fill=\"none\" stroke=\"black\" d=\"M243.16,-178.8C232.09,-189.15 216.11,-202.73 202.12,-213.71\"/>\n<polygon fill=\"black\" stroke=\"black\" points=\"199.96,-210.96 194.17,-219.83 204.23,-216.51 199.96,-210.96\"/>\n</g>\n</g>\n</svg>\n",
      "text/plain": [
       "<graphviz.graphs.Digraph at 0x1eb5c6d5160>"
      ]
     },
     "execution_count": 107,
     "metadata": {},
     "output_type": "execute_result"
    }
   ],
   "source": [
    "# для визуализации графа используем graphviz\n",
    "tg = graphviz.Digraph('test_graph')\n",
    "for name in graph:\n",
    "    tg.edges((name.capitalize(), i.capitalize()) for i in graph[name])\n",
    "tg"
   ]
  },
  {
   "cell_type": "code",
   "execution_count": 110,
   "metadata": {},
   "outputs": [],
   "source": [
    "# Передаем в качестве аргумента исходный узел\n",
    "def BFS(root):\n",
    "    search_queue = deque() # создаем очередь\n",
    "    search_queue.append(root)\n",
    "    parents = {root: None} # для трэйсбэка и прямо по нему и будем проверять посещён узел или нет\n",
    "    while search_queue: # пока очередь не пуста\n",
    "        person = search_queue.popleft() # достаем очередной узел из очереди\n",
    "        if mango_seller_info[person]: # проверяем условие (в нашем случае продавец манго)\n",
    "            res = []\n",
    "            current = person\n",
    "            while parents[current] != None:\n",
    "                res.append(parents[current])\n",
    "                current = parents[current]\n",
    "            print('traceback:',[person] + res, 'length =',len(res))\n",
    "            return person.capitalize() + ' is mango seller!' # при успехе возвращаем сообщение\n",
    "        else:\n",
    "            for elem in graph[person]:\n",
    "                if elem not in parents: \n",
    "                    search_queue += [elem] # в противном случае добавляем всех соседей этого узла\n",
    "                    parents[elem] = person\n",
    "    return 'There are no mango sellers in graph' # если просмотрели весь граф и не нашли необходимого, возвращаем сообщение"
   ]
  },
  {
   "cell_type": "code",
   "execution_count": 111,
   "metadata": {},
   "outputs": [
    {
     "name": "stdout",
     "output_type": "stream",
     "text": [
      "traceback: ['anuj', 'bob', 'you'] length = 2\n"
     ]
    },
    {
     "data": {
      "text/plain": [
       "'Anuj is mango seller!'"
      ]
     },
     "execution_count": 111,
     "metadata": {},
     "output_type": "execute_result"
    }
   ],
   "source": [
    "BFS('you')"
   ]
  },
  {
   "cell_type": "markdown",
   "metadata": {},
   "source": [
    "#### Усложняем"
   ]
  },
  {
   "cell_type": "code",
   "execution_count": 112,
   "metadata": {},
   "outputs": [],
   "source": [
    "from typing import List, Tuple, Dict"
   ]
  },
  {
   "cell_type": "code",
   "execution_count": 113,
   "metadata": {},
   "outputs": [],
   "source": [
    "# Попробую реализовать поиск кратчайшего пути на карте в виде квадратной сетки.\n",
    "# \"Лабиринт\" будет выглядеть вот так. Это сетка 7х7.\n",
    "# S - start, G - goal, # - wall\n",
    "'''# # # # # . #\n",
    "   # . . . . . #\n",
    "   # . # . # # #\n",
    "   # . # . . . .\n",
    "   S . # . # # .\n",
    "   . . # . # G .\n",
    "   # # # . # . .'''\n",
    "\n",
    "# Заведём тип, координата тайла\n",
    "GridCoord = Tuple[int,int]\n",
    "\n",
    "# Создадим класс SquareGrid, который будет описывать прямоугольную сетку из тайлов.\n",
    "class SquareGrid():\n",
    "   def __init__(self, width: int, height: int):\n",
    "      self.width = width\n",
    "      self.height = height\n",
    "      self.walls: List[GridCoord] = [] # координаты стенок\n",
    "   \n",
    "   # проверка на нахождение в границах сетки\n",
    "   def in_bounds(self, id: GridCoord) -> bool: \n",
    "          (x,y) = id\n",
    "          return (0 <= x < self.width) and (0 <= y < self.height)\n",
    "   \n",
    "   # проверка не является ли координата стенкой\n",
    "   def passable(self, id: GridCoord) -> bool:\n",
    "      return (id not in self.walls)    \n",
    "   \n",
    "   # Вычисление соседей. Незачем запоминать весь список соседей.\n",
    "   # На ходу проверяем в границах ли ближайшие 4 координаты справа, слева, сверху и снизу\n",
    "   # И не являются ли они стенами. Возвращаем список координат соседей.\n",
    "   def neighbours(self, id: GridCoord) -> List[GridCoord]:\n",
    "      (x,y) = id\n",
    "      neighbours = [(x+1,y),(x-1,y),(x,y-1),(x,y+1)]\n",
    "      if (x+y) % 2 == 0: neighbours.reverse()\n",
    "      result = list(filter(self.in_bounds, neighbours))\n",
    "      result = list(filter(self.passable, result))\n",
    "      return result\n",
    "\n",
    "# Вспомогательная функция, чтобы просто передавать порядковые номера тайлов\n",
    "# а не писать полотно из кортежей\n",
    "def from_number(number: int, width: int, height: int) -> GridCoord:\n",
    "   return number%width, number//height\n",
    "\n",
    "# Функции визуализации одного тайла\n",
    "def plot_tile(graph, id, style):\n",
    "    r = \"\\033[0m . \"\n",
    "    # Это для визуализации весов рёбер, для последующей реализации алгоритма Дейкстры\n",
    "    if 'number' in style and id in style['number']: r = \"\\033[0m\" + \" %-2d\" % style['number'][id]\n",
    "    # Если отработал любой алгоритм и есть список \"родителей\",\n",
    "    # можно визуализировать откуда пришли в каждый тайл\n",
    "    if 'point_to' in style and style['point_to'].get(id, None) is not None:\n",
    "        (x1, y1) = id\n",
    "        (x2, y2) = style['point_to'][id]\n",
    "        if x2 == x1 + 1: r = \" > \"\n",
    "        if x2 == x1 - 1: r = \" < \"\n",
    "        if y2 == y1 + 1: r = \" v \"\n",
    "        if y2 == y1 - 1: r = \" ^ \"\n",
    "    if 'forest' in style and id in style['forest']:\n",
    "        r = \"\\033[42m \" + '%-2d' % style['number'][id]\n",
    "    # Если есть путь, то визуализиуем его\n",
    "    if 'path' in style and id in style['path']:   r = \"\\033[0m @ \"\n",
    "    # Здесь отмечаем стартовую и финишную точки\n",
    "    if 'start' in style and id == style['start']: r = \"\\033[0m\\33[31m S \"\n",
    "    if 'goal' in style and id == style['goal']:   r = \"\\033[0m\\33[33m G \"\n",
    "    # И если есть стенки - их тоже визуализируем\n",
    "    if id in graph.walls: r = \"\\033[0m###\"\n",
    "    return r\n",
    "\n",
    "# Функция для визуализации всей сетки \n",
    "def plot_grid(graph, **style):\n",
    "    print(\"___\" * graph.width)\n",
    "    for y in range(graph.height):\n",
    "        for x in range(graph.width):\n",
    "            print(\"%s\" % plot_tile(graph, (x, y), style), end=\"\")\n",
    "        print()\n",
    "    print(\"~~~\" * graph.width)\n",
    "\n",
    "# Сам алгоритм поиска, всё так, же как и в предыдущей реализации\n",
    "def breadth_first_search(graph, start: GridCoord, goal: GridCoord):\n",
    "    queue = deque() # Создаём очередь\n",
    "    queue += [start] # Добавляем начальный узел\n",
    "    parents: Dict[GridCoord, List[GridCoord]] = {} # Инициализируем словарь родителей для узлов\n",
    "    parents[start] = None # Для исходного узла родителей нет\n",
    "    \n",
    "    while queue: # Пока очередь не пуста\n",
    "        current: GridCoord = queue.popleft() # Достаём первый узел из очереди\n",
    "        \n",
    "        if current == goal: # Если нашли цель, завершаем алгоритм\n",
    "            break\n",
    "        \n",
    "        for next in graph.neighbours(current): # иначе вытаскиваем всех соседей\n",
    "            if next not in parents: # если нету в уже пройденных\n",
    "                queue += [next] # добавляем в очередь\n",
    "                parents[next] = current # назначаем текущий тайл родителем для каждого из соседей\n",
    "    \n",
    "    return parents\n",
    "\n",
    "# Функция воссоздания пути.\n",
    "# Передаём словарь \"родителей\" и стартовые и финишные координаты\n",
    "def reconstruct_path(parents: Dict[GridCoord, GridCoord],\n",
    "                     start: GridCoord, goal: GridCoord) -> List[GridCoord]:\n",
    "    \n",
    "    current: GridCoord = goal # Начинаем с финиша\n",
    "    path: List[GridCoord] = [] # Инициализируем путь\n",
    "    while current != start: # пока текущий узел не является стартовым\n",
    "        path.append(current) # добавляем сам узел в путь\n",
    "        current = parents[current] # назначаем \"родительский\" узел текущим\n",
    "    path.append(start) # в конце добавляем стартовый узел\n",
    "    path.reverse() # разворачиваем, чтобы путь от начала до конца выводился, а не наоборот\n",
    "    return path"
   ]
  },
  {
   "cell_type": "code",
   "execution_count": 115,
   "metadata": {},
   "outputs": [
    {
     "name": "stdout",
     "output_type": "stream",
     "text": [
      "_____________________\n",
      "\u001b[0m###\u001b[0m###\u001b[0m###\u001b[0m###\u001b[0m###\u001b[0m . \u001b[0m###\n",
      "\u001b[0m###\u001b[0m . \u001b[0m . \u001b[0m . \u001b[0m . \u001b[0m . \u001b[0m###\n",
      "\u001b[0m###\u001b[0m . \u001b[0m###\u001b[0m . \u001b[0m###\u001b[0m###\u001b[0m###\n",
      "\u001b[0m###\u001b[0m . \u001b[0m###\u001b[0m . \u001b[0m . \u001b[0m . \u001b[0m . \n",
      "\u001b[0m\u001b[31m S \u001b[0m . \u001b[0m###\u001b[0m . \u001b[0m###\u001b[0m###\u001b[0m . \n",
      "\u001b[0m . \u001b[0m . \u001b[0m###\u001b[0m . \u001b[0m###\u001b[0m\u001b[33m G \u001b[0m . \n",
      "\u001b[0m###\u001b[0m###\u001b[0m###\u001b[0m . \u001b[0m###\u001b[0m . \u001b[0m . \n",
      "~~~~~~~~~~~~~~~~~~~~~\n",
      "_____________________\n",
      "\u001b[0m###\u001b[0m###\u001b[0m###\u001b[0m###\u001b[0m### v \u001b[0m###\n",
      "\u001b[0m###\u001b[0m @ \u001b[0m @ \u001b[0m @  <  < \u001b[0m###\n",
      "\u001b[0m###\u001b[0m @ \u001b[0m###\u001b[0m @ \u001b[0m###\u001b[0m###\u001b[0m###\n",
      "\u001b[0m###\u001b[0m @ \u001b[0m###\u001b[0m @ \u001b[0m @ \u001b[0m @ \u001b[0m @ \n",
      "\u001b[0m\u001b[31m S \u001b[0m @ \u001b[0m### ^ \u001b[0m###\u001b[0m###\u001b[0m @ \n",
      " ^  < \u001b[0m### ^ \u001b[0m###\u001b[0m\u001b[33m G \u001b[0m @ \n",
      "\u001b[0m###\u001b[0m###\u001b[0m### ^ \u001b[0m###\u001b[0m .  ^ \n",
      "~~~~~~~~~~~~~~~~~~~~~\n"
     ]
    }
   ],
   "source": [
    "# Проверяем. Создаём сетку 7х7\n",
    "mygrid = SquareGrid(7,7)\n",
    "# генерим координаты стенок\n",
    "mygrid.walls = [from_number(i,7,7) for i in map(lambda x: x-1, [1,2,3,4,5,7,8,14,15,17,19,20,21,22,24,31,33,34,38,40,43,44,45,47])]\n",
    "# Словарь с дополнительными параметрами для визуализации\n",
    "style = {}\n",
    "style['start'] = (0,4) # стартовые координаты\n",
    "style['goal'] = (5,5) # финишные координаты\n",
    "plot_grid(mygrid, **style)\n",
    "\n",
    "# Записываем в словарь результаты работы алгоритма и восстановления пути\n",
    "style['point_to'] = breadth_first_search(mygrid, (0,4), (5,5))\n",
    "style['path'] = reconstruct_path(style['point_to'], style['start'], style['goal'])\n",
    "plot_grid(mygrid, **style)"
   ]
  },
  {
   "cell_type": "markdown",
   "metadata": {},
   "source": [
    "### 9. Алгоритм Дейкстры.\n",
    "- Работает только на направленных ациклических графах. DAG(directed acyclic grph)\n",
    "- Рёбра не могут иметь отрицательного веса. Для рёбер с отрицательным весом надо использовать алгоритм Беллмана-Форда\n",
    "- Находит маршрут с минимальной стоимостью"
   ]
  },
  {
   "cell_type": "code",
   "execution_count": 116,
   "metadata": {},
   "outputs": [],
   "source": [
    "# Создаем взвешенный граф\n",
    "# Значения - веса рёбер\n",
    "weighted_graph = {'Книга':{'Пластинка':5, \"Постер\":0},\n",
    "                  'Пластинка': {'Бас-гитара':15, \"Барабан\":20},\n",
    "                  'Постер': {'Бас-гитара':30, \"Барабан\":35},\n",
    "                  'Бас-гитара': {'Пианино':20},\n",
    "                  'Барабан': {\"Пианино\":10},\n",
    "                  'Пианино': {}\n",
    "                 }\n",
    "\n",
    "# Создаём словарь стоимостей для каждого узла\n",
    "unk = float('inf')\n",
    "costs = {\"Книга\": 0,\n",
    "         \"Пластинка\": 5,\n",
    "         \"Постер\": 0,\n",
    "         \"Бас-гитара\": unk,\n",
    "         \"Барабан\": unk,\n",
    "         \"Пианино\": unk\n",
    "         }\n",
    "\n",
    "# Создаём словарь родителей\n",
    "parents = {'Книга': None,\n",
    "           'Пластинка': \"Книга\",\n",
    "           \"Постер\": \"Книга\",\n",
    "           \"Бас-гитара\": None,\n",
    "           \"Барабан\": None,\n",
    "           \"Пианино\": None}"
   ]
  },
  {
   "cell_type": "code",
   "execution_count": 117,
   "metadata": {},
   "outputs": [
    {
     "data": {
      "image/svg+xml": "<?xml version=\"1.0\" encoding=\"UTF-8\" standalone=\"no\"?>\n<!DOCTYPE svg PUBLIC \"-//W3C//DTD SVG 1.1//EN\"\n \"http://www.w3.org/Graphics/SVG/1.1/DTD/svg11.dtd\">\n<!-- Generated by graphviz version 2.50.0 (0)\n -->\n<!-- Pages: 1 -->\n<svg width=\"216pt\" height=\"305pt\"\n viewBox=\"0.00 0.00 215.89 305.00\" xmlns=\"http://www.w3.org/2000/svg\" xmlns:xlink=\"http://www.w3.org/1999/xlink\">\n<g id=\"graph0\" class=\"graph\" transform=\"scale(1 1) rotate(0) translate(4 301)\">\n<polygon fill=\"white\" stroke=\"transparent\" points=\"-4,4 -4,-301 211.89,-301 211.89,4 -4,4\"/>\n<!-- Книга -->\n<g id=\"node1\" class=\"node\">\n<title>Книга</title>\n<ellipse fill=\"none\" stroke=\"black\" cx=\"108.65\" cy=\"-279\" rx=\"34.39\" ry=\"18\"/>\n<text text-anchor=\"middle\" x=\"108.65\" y=\"-275.3\" font-family=\"Times New Roman,serif\" font-size=\"14.00\">Книга</text>\n</g>\n<!-- Пластинка -->\n<g id=\"node2\" class=\"node\">\n<title>Пластинка</title>\n<ellipse fill=\"none\" stroke=\"black\" cx=\"54.65\" cy=\"-192\" rx=\"51.99\" ry=\"18\"/>\n<text text-anchor=\"middle\" x=\"54.65\" y=\"-188.3\" font-family=\"Times New Roman,serif\" font-size=\"14.00\">Пластинка</text>\n</g>\n<!-- Книга&#45;&gt;Пластинка -->\n<g id=\"edge1\" class=\"edge\">\n<title>Книга&#45;&gt;Пластинка</title>\n<path fill=\"none\" stroke=\"black\" d=\"M98.23,-261.61C90.44,-249.34 79.64,-232.34 70.73,-218.32\"/>\n<polygon fill=\"black\" stroke=\"black\" points=\"73.53,-216.19 65.21,-209.63 67.62,-219.95 73.53,-216.19\"/>\n<text text-anchor=\"middle\" x=\"89.15\" y=\"-231.8\" font-family=\"Times New Roman,serif\" font-size=\"14.00\">5</text>\n</g>\n<!-- Постер -->\n<g id=\"node3\" class=\"node\">\n<title>Постер</title>\n<ellipse fill=\"none\" stroke=\"black\" cx=\"163.65\" cy=\"-192\" rx=\"38.99\" ry=\"18\"/>\n<text text-anchor=\"middle\" x=\"163.65\" y=\"-188.3\" font-family=\"Times New Roman,serif\" font-size=\"14.00\">Постер</text>\n</g>\n<!-- Книга&#45;&gt;Постер -->\n<g id=\"edge2\" class=\"edge\">\n<title>Книга&#45;&gt;Постер</title>\n<path fill=\"none\" stroke=\"black\" d=\"M119.25,-261.61C127.24,-249.26 138.33,-232.12 147.43,-218.05\"/>\n<polygon fill=\"black\" stroke=\"black\" points=\"150.58,-219.64 153.07,-209.34 144.7,-215.83 150.58,-219.64\"/>\n<text text-anchor=\"middle\" x=\"142.15\" y=\"-231.8\" font-family=\"Times New Roman,serif\" font-size=\"14.00\">0</text>\n</g>\n<!-- Бас&#45;гитара -->\n<g id=\"node4\" class=\"node\">\n<title>Бас&#45;гитара</title>\n<ellipse fill=\"none\" stroke=\"black\" cx=\"52.65\" cy=\"-105\" rx=\"52.79\" ry=\"18\"/>\n<text text-anchor=\"middle\" x=\"52.65\" y=\"-101.3\" font-family=\"Times New Roman,serif\" font-size=\"14.00\">Бас&#45;гитара</text>\n</g>\n<!-- Пластинка&#45;&gt;Бас&#45;гитара -->\n<g id=\"edge3\" class=\"edge\">\n<title>Пластинка&#45;&gt;Бас&#45;гитара</title>\n<path fill=\"none\" stroke=\"black\" d=\"M54.24,-173.8C53.97,-162.16 53.6,-146.55 53.29,-133.24\"/>\n<polygon fill=\"black\" stroke=\"black\" points=\"56.78,-133.09 53.05,-123.18 49.79,-133.26 56.78,-133.09\"/>\n<text text-anchor=\"middle\" x=\"61.65\" y=\"-144.8\" font-family=\"Times New Roman,serif\" font-size=\"14.00\">15</text>\n</g>\n<!-- Барабан -->\n<g id=\"node5\" class=\"node\">\n<title>Барабан</title>\n<ellipse fill=\"none\" stroke=\"black\" cx=\"165.65\" cy=\"-105\" rx=\"42.49\" ry=\"18\"/>\n<text text-anchor=\"middle\" x=\"165.65\" y=\"-101.3\" font-family=\"Times New Roman,serif\" font-size=\"14.00\">Барабан</text>\n</g>\n<!-- Пластинка&#45;&gt;Барабан -->\n<g id=\"edge4\" class=\"edge\">\n<title>Пластинка&#45;&gt;Барабан</title>\n<path fill=\"none\" stroke=\"black\" d=\"M64.23,-174.02C70.85,-163.45 80.46,-150.19 91.65,-141 101.34,-133.04 113.15,-126.4 124.46,-121.13\"/>\n<polygon fill=\"black\" stroke=\"black\" points=\"126.05,-124.25 133.79,-117.02 123.22,-117.85 126.05,-124.25\"/>\n<text text-anchor=\"middle\" x=\"98.65\" y=\"-144.8\" font-family=\"Times New Roman,serif\" font-size=\"14.00\">20</text>\n</g>\n<!-- Постер&#45;&gt;Бас&#45;гитара -->\n<g id=\"edge5\" class=\"edge\">\n<title>Постер&#45;&gt;Бас&#45;гитара</title>\n<path fill=\"none\" stroke=\"black\" d=\"M146.87,-175.53C135.53,-165.34 120.07,-151.91 105.65,-141 99.21,-136.14 92.13,-131.19 85.3,-126.62\"/>\n<polygon fill=\"black\" stroke=\"black\" points=\"87.11,-123.62 76.84,-121.05 83.27,-129.47 87.11,-123.62\"/>\n<text text-anchor=\"middle\" x=\"130.65\" y=\"-144.8\" font-family=\"Times New Roman,serif\" font-size=\"14.00\">30</text>\n</g>\n<!-- Постер&#45;&gt;Барабан -->\n<g id=\"edge6\" class=\"edge\">\n<title>Постер&#45;&gt;Барабан</title>\n<path fill=\"none\" stroke=\"black\" d=\"M164.05,-173.8C164.32,-162.16 164.69,-146.55 165,-133.24\"/>\n<polygon fill=\"black\" stroke=\"black\" points=\"168.5,-133.26 165.24,-123.18 161.51,-133.09 168.5,-133.26\"/>\n<text text-anchor=\"middle\" x=\"171.65\" y=\"-144.8\" font-family=\"Times New Roman,serif\" font-size=\"14.00\">35</text>\n</g>\n<!-- Пианино -->\n<g id=\"node6\" class=\"node\">\n<title>Пианино</title>\n<ellipse fill=\"none\" stroke=\"black\" cx=\"108.65\" cy=\"-18\" rx=\"45.49\" ry=\"18\"/>\n<text text-anchor=\"middle\" x=\"108.65\" y=\"-14.3\" font-family=\"Times New Roman,serif\" font-size=\"14.00\">Пианино</text>\n</g>\n<!-- Бас&#45;гитара&#45;&gt;Пианино -->\n<g id=\"edge7\" class=\"edge\">\n<title>Бас&#45;гитара&#45;&gt;Пианино</title>\n<path fill=\"none\" stroke=\"black\" d=\"M63.71,-87.21C71.76,-74.98 82.81,-58.21 91.94,-44.36\"/>\n<polygon fill=\"black\" stroke=\"black\" points=\"95.03,-46.03 97.6,-35.76 89.18,-42.18 95.03,-46.03\"/>\n<text text-anchor=\"middle\" x=\"91.65\" y=\"-57.8\" font-family=\"Times New Roman,serif\" font-size=\"14.00\">20</text>\n</g>\n<!-- Барабан&#45;&gt;Пианино -->\n<g id=\"edge8\" class=\"edge\">\n<title>Барабан&#45;&gt;Пианино</title>\n<path fill=\"none\" stroke=\"black\" d=\"M154.66,-87.61C146.43,-75.34 135.02,-58.34 125.63,-44.32\"/>\n<polygon fill=\"black\" stroke=\"black\" points=\"128.27,-41.98 119.8,-35.63 122.46,-45.88 128.27,-41.98\"/>\n<text text-anchor=\"middle\" x=\"146.65\" y=\"-57.8\" font-family=\"Times New Roman,serif\" font-size=\"14.00\">10</text>\n</g>\n</g>\n</svg>\n",
      "text/plain": [
       "<graphviz.graphs.Digraph at 0x1eb5a9a40a0>"
      ]
     },
     "execution_count": 117,
     "metadata": {},
     "output_type": "execute_result"
    }
   ],
   "source": [
    "# Визуализируем взвешенный граф\n",
    "test_graph = graphviz.Digraph()\n",
    "for elem in weighted_graph:\n",
    "    for child in weighted_graph[elem]:\n",
    "        test_graph.edge(elem,child, label=str(weighted_graph[elem][child]))\n",
    "test_graph"
   ]
  },
  {
   "cell_type": "code",
   "execution_count": 118,
   "metadata": {},
   "outputs": [
    {
     "name": "stdout",
     "output_type": "stream",
     "text": [
      "Последовательность обменов: Книга->Пластинка->Барабан->Пианино \n",
      "Итоговая стоимость: 35\n"
     ]
    }
   ],
   "source": [
    "from functools import reduce\n",
    "# Сам алгоритм\n",
    "def dijkstra_algorithm(graph, costs, parents, start, goal) -> list:\n",
    "    # Список обработанных узлов\n",
    "    processed = []\n",
    "    # Начинаем со стартового узла\n",
    "    current_node = start\n",
    "    while current_node is not None: # пока остаются необработанные узлы\n",
    "        cost = costs[current_node] # Стоимость текущего узла\n",
    "        neighbours = graph[current_node] # соседи текущего узла\n",
    "        for n in neighbours.keys():\n",
    "            new_cost = cost + neighbours[n] # обновляем стоимость каждого соседа\n",
    "            if costs[n] > new_cost: # если стоимость получилась ниже обновляем стоимость и назначаем нового родителя\n",
    "                costs[n] = new_cost\n",
    "                parents[n] = current_node\n",
    "        processed.append(current_node)\n",
    "        # Текущим узлом становится узел с минимальной стоимостью\n",
    "        current_node = find_lowest_cost_node(costs, processed)\n",
    "    # Возвращаем путь и общую стоимость.\n",
    "    return path_reconstruction(parents, start, goal), costs[goal]\n",
    "\n",
    "# Восстановление пути\n",
    "def path_reconstruction(parents,start, goal) -> list:\n",
    "    path = []\n",
    "    current_node = goal\n",
    "    while current_node != start:\n",
    "        path.append(current_node)\n",
    "        current_node = parents[current_node]\n",
    "    path.append(current_node)\n",
    "    path.reverse()\n",
    "    return path\n",
    "\n",
    "# Нахождение узла с минимальной стоимостью\n",
    "def find_lowest_cost_node(costs, processed):\n",
    "    lowest_cost = float('inf')\n",
    "    lowest_cost_node = None\n",
    "    for node in costs:\n",
    "        cost = costs[node]\n",
    "        if (node not in processed) and (cost < lowest_cost):\n",
    "            lowest_cost = cost\n",
    "            lowest_cost_node = node\n",
    "    return lowest_cost_node\n",
    "\n",
    "\n",
    "trace, cost = dijkstra_algorithm(weighted_graph,costs,parents,'Книга','Пианино')\n",
    "print('Последовательность обменов:', reduce(lambda x,y: x+'->'+y, trace),'\\nИтоговая стоимость:', cost)\n",
    "    "
   ]
  },
  {
   "cell_type": "markdown",
   "metadata": {},
   "source": [
    "#### Усложняем"
   ]
  },
  {
   "cell_type": "code",
   "execution_count": 121,
   "metadata": {},
   "outputs": [],
   "source": [
    "# Опять же попробуем реализовать алгоритм Дейкстры для сетки.\n",
    "# Например это игровая карта с разными стоимостями прохода по разным клеткам.\n",
    "\n",
    "# Можно не делать отдельную функцию для поиска узла с наименьшей стоимостью.\n",
    "# Вместо этого можно воспользоваться реализацией двоичной кучи из модуля heapq\n",
    "import heapq\n",
    "from typing import TypeVar, Optional\n",
    "\n",
    "# произвольный тип\n",
    "T = TypeVar('T')\n",
    "\n",
    "# класс сетки с весами.\n",
    "# наследник обычной сетки\n",
    "# при инициализации добавляем веса, добавляем метод cost возвращающий стоимость достижения узла\n",
    "class GridWithWeights(SquareGrid):\n",
    "    def __init__(self, width: int, height: int):\n",
    "        super().__init__(width, height)\n",
    "        self.weights: Dict[GridCoord, float] = {}\n",
    "    \n",
    "    def cost(self, to_node: GridCoord) -> float:\n",
    "        return self.weights.get(to_node, 1) # возвращает 1 если веса нет в словаре.\n",
    "\n",
    "# Обёртка для очереди с приоритетом, на базе двоичной кучи\n",
    "# Заворачиваем push и pop в методы get и put для удобства\n",
    "# добавляем метод, возвращающий True если очередь пуста.\n",
    "class PriorityQueue:\n",
    "    def __init__(self):\n",
    "        self.elements: List[Tuple[float, T]] = []\n",
    "    \n",
    "    def empty(self) -> bool:\n",
    "        return not self.elements\n",
    "    \n",
    "    def put(self, item: T, priority: float):\n",
    "        heapq.heappush(self.elements, (priority, item))\n",
    "    \n",
    "    def get(self) -> T:\n",
    "        return heapq.heappop(self.elements)[1]\n",
    "\n",
    "# Сам алгоритм\n",
    "# Передаем в качестве атрибутов граф, координаты старта и финиша\n",
    "def dijkstra_search(graph: GridWithWeights, start: GridCoord, goal: GridCoord):\n",
    "    queue = PriorityQueue() # Инициализируем очередь.\n",
    "    queue.put(start, 0) # добавляем в очередь стартовый \"узел\"\n",
    "    parents: Dict[GridCoord, Optional[GridCoord]] = {} # инициализируем словарь \"родителей\"\n",
    "    costs: Dict[GridCoord, float] = {} # инициализируем словарь со стоимостями для каждого узла\n",
    "    parents[start] = None # у начального узла родителей нет\n",
    "    costs[start] = 0 # стоимость его достижения - нулевая\n",
    "    \n",
    "    while not queue.empty(): # пока очередь не пуста\n",
    "        current: GridCoord = queue.get() # получаем узел с наименьшим приоритетом\n",
    "        \n",
    "        if current == goal: # если это финишный узел - алгоритм заканчивает работу\n",
    "            break\n",
    "        \n",
    "        for next in graph.neighbours(current): # если нет, то для каждого из соседей\n",
    "            new_cost = costs[current] + graph.cost(next) # рассчитываем стоимость его достижения через текущий узел\n",
    "            if next not in costs or new_cost < costs[next]: # если новая стоимость меньше текущей\n",
    "                costs[next] = new_cost # обновляем стоимость\n",
    "                priority = new_cost # записываем её как приоритет\n",
    "                queue.put(next, priority) # добавляем узел в очередь, вместе с приоритетом\n",
    "                parents[next] = current # обновляем \"родительский\" узел для этого соседа\n",
    "    \n",
    "    return parents, costs # возвращаем список родителей и список стоимостей"
   ]
  },
  {
   "cell_type": "code",
   "execution_count": 123,
   "metadata": {},
   "outputs": [
    {
     "name": "stdout",
     "output_type": "stream",
     "text": [
      "______________________________\n",
      "\u001b[0m 5 \u001b[0m 4 \u001b[0m 5 \u001b[0m 6 \u001b[0m 7 \u001b[0m 8 \u001b[0m 9 \u001b[0m 10\u001b[0m 11\u001b[0m 12\n",
      "\u001b[0m 4 \u001b[0m 3 \u001b[0m 4 \u001b[0m 5 \u001b[42m 26\u001b[42m 31\u001b[0m 10\u001b[0m 11\u001b[0m 12\u001b[0m 13\n",
      "\u001b[0m 3 \u001b[0m 2 \u001b[0m 3 \u001b[0m 4 \u001b[42m 29\u001b[42m 18\u001b[42m 22\u001b[0m 12\u001b[0m 13\u001b[0m 14\n",
      "\u001b[0m 2 \u001b[0m 1 \u001b[0m 2 \u001b[0m 3 \u001b[42m 18\u001b[42m 16\u001b[42m 48\u001b[42m 17\u001b[0m 14\u001b[0m 15\n",
      "\u001b[0m 1 \u001b[0m 1 \u001b[0m 1 \u001b[42m 18\u001b[42m 34\u001b[42m 46\u001b[42m 21\u001b[42m 20\u001b[0m 15\u001b[0m 16\n",
      "\u001b[0m 2 \u001b[0m 1 \u001b[0m 2 \u001b[42m 7 \u001b[42m 29\u001b[42m 47\u001b[42m 22\u001b[42m 21\u001b[0m 6 \u001b[0m 17\n",
      "\u001b[0m 3 \u001b[0m 2 \u001b[0m 3 \u001b[0m 4 \u001b[42m 9 \u001b[42m 34\u001b[42m 29\u001b[0m 36\u001b[0m 17\u001b[0m 18\n",
      "\u001b[0m 4 \u001b[0m###\u001b[0m###\u001b[0m###\u001b[42m 14\u001b[42m 29\u001b[42m 18\u001b[0m 15\u001b[0m 16\u001b[0m 17\n",
      "\u001b[0m 5 \u001b[0m###\u001b[0m###\u001b[0m###\u001b[42m 15\u001b[42m 16\u001b[0m 13\u001b[0m 14\u001b[0m 15\u001b[0m 16\n",
      "\u001b[0m 6 \u001b[0m 7 \u001b[0m 8 \u001b[0m 9 \u001b[0m 10\u001b[0m 11\u001b[0m 12\u001b[0m 13\u001b[0m 14\u001b[0m 15\n",
      "~~~~~~~~~~~~~~~~~~~~~~~~~~~~~~\n",
      "______________________________\n",
      "\u001b[0m 5 \u001b[0m @ \u001b[0m @ \u001b[0m @ \u001b[0m @ \u001b[0m @ \u001b[0m @ \u001b[0m 10\u001b[0m 11\u001b[0m 12\n",
      "\u001b[0m 4 \u001b[0m @ \u001b[0m 4 \u001b[0m 5 \u001b[42m 26\u001b[42m 31\u001b[0m @ \u001b[0m @ \u001b[0m 12\u001b[0m 13\n",
      "\u001b[0m 3 \u001b[0m @ \u001b[0m 3 \u001b[0m 4 \u001b[42m 29\u001b[42m 18\u001b[42m 22\u001b[0m @ \u001b[0m @ \u001b[0m 14\n",
      "\u001b[0m 2 \u001b[0m @ \u001b[0m 2 \u001b[0m 3 \u001b[42m 18\u001b[42m 16\u001b[42m 48\u001b[42m 17\u001b[0m @ \u001b[0m 15\n",
      "\u001b[0m 1 \u001b[0m\u001b[31m S \u001b[0m 1 \u001b[42m 18\u001b[42m 34\u001b[42m 46\u001b[42m 21\u001b[42m 20\u001b[0m @ \u001b[0m 16\n",
      "\u001b[0m 2 \u001b[0m 1 \u001b[0m 2 \u001b[42m 7 \u001b[42m 29\u001b[42m 47\u001b[42m 22\u001b[42m 21\u001b[0m\u001b[33m G \u001b[0m 17\n",
      "\u001b[0m 3 \u001b[0m 2 \u001b[0m 3 \u001b[0m 4 \u001b[42m 9 \u001b[42m 34\u001b[42m 29\u001b[0m 36\u001b[0m 17\u001b[0m 18\n",
      "\u001b[0m 4 \u001b[0m###\u001b[0m###\u001b[0m###\u001b[42m 14\u001b[42m 29\u001b[42m 18\u001b[0m 15\u001b[0m 16\u001b[0m 17\n",
      "\u001b[0m 5 \u001b[0m###\u001b[0m###\u001b[0m###\u001b[42m 15\u001b[42m 16\u001b[0m 13\u001b[0m 14\u001b[0m 15\u001b[0m 16\n",
      "\u001b[0m 6 \u001b[0m 7 \u001b[0m 8 \u001b[0m 9 \u001b[0m 10\u001b[0m 11\u001b[0m 12\u001b[0m 13\u001b[0m 14\u001b[0m 15\n",
      "~~~~~~~~~~~~~~~~~~~~~~~~~~~~~~\n",
      "Минимальная стоимость пути: 126\n"
     ]
    }
   ],
   "source": [
    "# Создадим сетку 10х10. Карту с \"горой\" и \"лесом\".\n",
    "# Гора - стенки. Лес - тайлы с большими весами в центре.\n",
    "game_map = GridWithWeights(10,10)\n",
    "game_map.weights = dict(zip([(i,j) for j in range(10) for i in range(10)], \n",
    "                        [5,4,5,6,7,8,9,10,11,12,\n",
    "                        4,3,4,5,26,31,10,11,12,13,\n",
    "                        3,2,3,4,29,18,22,12,13,14,\n",
    "                        2,1,2,3,18,16,48,17,14,15,\n",
    "                        1,1,1,18,34,46,21,20,15,16,\n",
    "                        2,1,2,7,29,47,22,21,6,17,\n",
    "                        3,2,3,4,9,34,29,36,17,18,\n",
    "                        4,1,1,1,14,29,18,15,16,17,\n",
    "                        5,1,1,1,15,16,13,14,15,16,\n",
    "                        6,7,8,9,10,11,12,13,14,15]))\n",
    "game_map.walls = [from_number(i,10,10) for i in [71,72,73,81,82,83]]\n",
    "forest = [from_number(i,10,10) for i in [14,15,24,25,26,34,35,36,37,43,44,45,46,47,53,54,55,56,57,64,65,66,74,75,76,84,85]]\n",
    "start = (1,4)\n",
    "goal = (8,5)\n",
    "plot_grid(game_map, number=game_map.weights, forest=forest)\n",
    "\n",
    "p,c = dijkstra_search(game_map,start,goal)\n",
    "\n",
    "plot_grid(game_map, number=game_map.weights, start=start, goal=goal, forest=forest, path = reconstruct_path(p,start,goal))\n",
    "\n",
    "print('Минимальная стоимость пути:', c[goal])"
   ]
  },
  {
   "cell_type": "markdown",
   "metadata": {},
   "source": [
    "## Жадные алгоритмы\n",
    "- Основная идея: на каждом шаге выбирается локально-оптимальное решение. \n",
    "- По итогу получается глобальное решение близкое к оптимуму. Но вовсе не обязательно оптимальное.\n",
    "- Позволяют решать NP-полные задачи с приемлемой точностью за адекватное время."
   ]
  },
  {
   "cell_type": "markdown",
   "metadata": {},
   "source": [
    "### 10. Покрытие множества\n",
    "- Вводные: есть 5 радиостанций, каждая покрывает определённое количество штатов. \n",
    "- Есть 8 штатов.\n",
    "- Необходимо найти минимальный набор радиостанций, который покрывает все требуемые штаты."
   ]
  },
  {
   "cell_type": "code",
   "execution_count": 124,
   "metadata": {},
   "outputs": [
    {
     "name": "stdout",
     "output_type": "stream",
     "text": [
      "{'kthree', 'kone', 'ktwo', 'kfive'}\n"
     ]
    }
   ],
   "source": [
    "# Воспользуемся множествами\n",
    "# Список штатов, которые необходимо охватить\n",
    "states_needed = {'mt','wa','or','id','nv','ut','ca','az'}\n",
    "\n",
    "# Станции и покрытие каждой из них, в виде словаря множеств\n",
    "stations = {\n",
    "            'kone': {'id','nv','ut'},\n",
    "            'ktwo': {'wa','id','mt'},\n",
    "            'kthree': {'or','nv','ca'},\n",
    "            'kfour': {'nv','ut'},\n",
    "            'kfive': {'ca','az'}\n",
    "            }\n",
    "\n",
    "# Итоговый список станций.\n",
    "final_stations = set()\n",
    "\n",
    "\n",
    "# Сам алгоритм.\n",
    "while states_needed: # пока список штатов, которые надо охватить не пуст\n",
    "    # выбираем станцию, которая покрывает наибольшее количество ещё не покрытых штатов.\n",
    "    best_station = None # Лучшая по покрытию станция\n",
    "    states_covered = set() # Штаты которые охватывает станция, из тех, что ещё не охвачены.\n",
    "    for station, states in stations.items(): # Перебираем все станции из списка\n",
    "        covered = states_needed & states # Пересечение двух множеств. Между оставшимися неохваченными штатами и штатами, которые охватывает текущая станция.\n",
    "        if len(covered) > len(states_covered): # Если станция покрывает больше штатов, чем текущая, из тех что ещё не охвачены\n",
    "            best_station = station # Назначаем новую лучшую станцию\n",
    "            states_covered = covered # Записываем охватываемые штаты\n",
    "    states_needed -= states_covered # Убираем охваченные штаты из списка необходимых\n",
    "    final_stations.add(best_station) # Добавляем лучшую станцию к итоговому списку\n",
    "    # И алгоритм продолжает работать\n",
    "    # Можно ещё удалять из словаря уже отобранные станции, \n",
    "    # чтобы каждый раз не проверять весь словарь.\n",
    "    del stations[best_station]\n",
    "print(final_stations)"
   ]
  },
  {
   "cell_type": "markdown",
   "metadata": {},
   "source": [
    "### 11. Динамическое программирование\n",
    "Основные идеи:\n",
    "- Как и в жадных алгоритмах задача разбивается на подзадачи. Но динамическое программирование применимо к задачам с оптимальной подструктурой. Когда есть набор перекрывающихся подзадач, каждая из которых чуть проще итоговой.\n",
    "- Решаются подзадачи, их решения объединяются для решения глобальной задачи. \n",
    "- Два варианта. Либо прямой проход с мемоизацией(запоминанием) результатов решения подзадач. Либо обратный проход, когда задача рекурсивно разбивается на подзадачи и они решаются.\n",
    "- Важный момент. Если в жадных алгоритмах ищется оптимальное решение только на текущем шаге, то в динамическом программировании учитывается вся цепочка от текущего шага и до конца. И оценивается вся совокупность таких цепочек и уже из них выбирается оптимальный вариант.\n",
    " - По-сути всё сводится к уравнению Беллмана. Если брать дискретные состояния. Для непрерывных - это уравнение Гамильтона-Якоби-Беллмана.\n",
    " - $V(x) = \\max\\limits_{a\\in\\Gamma(x)} \\{F(x,a)+\\beta V(T(x,a))\\}$ - уравнение Беллмана\n",
    " - $x$ - состояние, $a$ - действие, $\\Gamma(x)$ - пространство возможных действий для текущего состояния, $T(x,a)$ - функция нового состояния, зависит от текущего состояния и выбранного действия\n",
    " - $F(x,a)$ - функция вознаграждения (payoff). $\\beta$ - коэффициент дисконтирования. $V(x)$ - Функция стоимости(value function). \n",
    " - Решением как раз является нахождение такой функции, которая максимизирует суммарное дисконтированное вознаграждение.\n",
    " - В решении задач о размене и о рюкзаке мы суммы от 0 до N и вместимость рюкзака от 0 до N считаем состояниями. А номиналы монет и веса предметов - соответственно действиями. Функции вознаграждения уже определены. Тогда как в том же RL(например Q-learning) нам необходимо искать всё это, инициализируя таблицу случайными числами."
   ]
  },
  {
   "cell_type": "markdown",
   "metadata": {},
   "source": [
    "11.а. Самый простой пример.\n",
    "- Числа Фибоначчи.\n",
    "- Часто ещё формулируется как задача о прыжках кузнечика. Есть некий отрезок длины n. Кузнечик может прыгать на 1 и на 2 вперёд. Сколько есть способов добраться до точки n.\n",
    "- Скорость выполнения конечно гораздо быстрее, чем у чистой рекурсии, как минимум потому, что не не нужно вычислять fib для тех значений, которые уже были получены.\n",
    "- Но это дополнительные затраты памяти."
   ]
  },
  {
   "cell_type": "code",
   "execution_count": 125,
   "metadata": {},
   "outputs": [
    {
     "name": "stdout",
     "output_type": "stream",
     "text": [
      "0, 1, 1, 2, 3, 5, 8, 13, 21, 34, 55, 89, 144, 233, 377, 610, 987, 1597, 2584, 4181, 6765, 10946, 17711, 28657, 46368, 75025, 121393, 196418, 317811, 514229, 832040, 1346269, 2178309, 3524578, 5702887, 9227465, 14930352, 24157817, 39088169, 63245986, 102334155, 165580141, 267914296, 433494437, 701408733, 1134903170, 1836311903, 2971215073, 4807526976, 7778742049, "
     ]
    }
   ],
   "source": [
    "# Вариант 1. Рекурсия с кэшированием.\n",
    "def fib_cache(n:int) -> int:\n",
    "    cache = [0 for _ in range(n+1)] # создаём список под кэш\n",
    "    def _fib_cache(n: int) -> int:\n",
    "        if n <= 1: \n",
    "            return n\n",
    "        if cache[n] == 0: # Если значения нет в кэше, заполняем значение рекурсивно вызывая функцию для n-1 и n-2\n",
    "            cache[n] = _fib_cache(n-1)+_fib_cache(n-2)\n",
    "        return cache[n]\n",
    "    return _fib_cache(n)\n",
    "\n",
    "for i in range(50):\n",
    "    print(fib_cache(i), end=', ')"
   ]
  },
  {
   "cell_type": "code",
   "execution_count": 126,
   "metadata": {},
   "outputs": [
    {
     "name": "stdout",
     "output_type": "stream",
     "text": [
      "0, 1, 1, 2, 3, 5, 8, 13, 21, 34, 55, 89, 144, 233, 377, 610, 987, 1597, 2584, 4181, 6765, 10946, 17711, 28657, 46368, 75025, 121393, 196418, 317811, 514229, 832040, 1346269, 2178309, 3524578, 5702887, 9227465, 14930352, 24157817, 39088169, 63245986, 102334155, 165580141, 267914296, 433494437, 701408733, 1134903170, 1836311903, 2971215073, 4807526976, 7778742049, "
     ]
    }
   ],
   "source": [
    "# Вариант 2. Без рекурсии.\n",
    "def fib_forward(n):\n",
    "    f = [0 for _ in range(max(2,n+1))] # Создаём массив размерам минимум 2, максимум n+1\n",
    "    # Заполняем первые два значения\n",
    "    f[0] = 0 \n",
    "    f[1] = 1\n",
    "    for i in range(2,n+1): # Проходимся циклом, заполняя массив\n",
    "        f[i] = f[i-1]+f[i-2] # Каждый элемент это сумма двух предыдущих\n",
    "    return f[n]\n",
    "\n",
    "for i in range(50):\n",
    "    print(fib_forward(i), end=', ')"
   ]
  },
  {
   "cell_type": "code",
   "execution_count": 127,
   "metadata": {},
   "outputs": [
    {
     "name": "stdout",
     "output_type": "stream",
     "text": [
      "0, 1, 1, 2, 3, 5, 8, 13, 21, 34, 55, 89, 144, 233, 377, 610, 987, 1597, 2584, 4181, 6765, 10946, 17711, 28657, 46368, 75025, 121393, 196418, 317811, 514229, 832040, 1346269, 2178309, 3524578, 5702887, 9227465, 14930352, 24157817, 39088169, 63245986, 102334155, 165580141, 267914296, 433494437, 701408733, 1134903170, 1836311903, 2971215073, 4807526976, 7778742049, "
     ]
    }
   ],
   "source": [
    "# То же, используя только 2 переменных, для хранения результатов.\n",
    "def fib_new(n: int) -> int:\n",
    "    f = [0,1]\n",
    "    for i in range(2,n+1):\n",
    "        f[0],f[1] = f[1],f[0]+f[1]\n",
    "    return f[0] if n==0 else f[1]\n",
    "\n",
    "for i in range(50):\n",
    "    print(fib_new(i), end=', ')"
   ]
  },
  {
   "cell_type": "markdown",
   "metadata": {},
   "source": [
    "11.б. Задача о сдаче(размене).\n",
    "- Есть набор монет разных номиналов (например 1,3,5,10 копеек).\n",
    "- Нужно найти минимальное количество монет, которыми можно выдать сдачу размера N.\n",
    "- Чем хороша задача в качестве примера - жадные алгоритмы на ней дают неоптимальное решение. \n",
    "- Пример: У нас есть монеты номиналом 10, 9 и 1 копейка. Нужно выдать сдачу 18 копеек. Жадный способ выберет 10 копеек и 8 раз по 1 копейке. Всего 9 монет. Тогда как оптимальное решение в данном случае 2 монеты по 9 копеек."
   ]
  },
  {
   "cell_type": "code",
   "execution_count": 128,
   "metadata": {},
   "outputs": [
    {
     "name": "stdout",
     "output_type": "stream",
     "text": [
      "Amount: 18, coins: [1,9,10], Result: 2\n",
      "Amount: 18, coins: [1,3,5], Result: 4\n"
     ]
    }
   ],
   "source": [
    "# Сам алгоритм\n",
    "def min_change(n: int, coins: tuple) -> int:\n",
    "    F=[0,1] # Задаём первые два результата. Для 0 - 0 монет, для 1 - 1 монета в 1 копейку.\n",
    "    for i in range(2,n+1): # Цикл от 2 до необходимой суммы.\n",
    "        # Рекуррентная функция, 1 + минимум от всех возможных вариантов. Если текущая сумма меньше номинала монеты - мы не можем её учитывать. \n",
    "        # Очевидно мы не можем выдать сдачу , к примеру, 4 используя монету номиналом 5.\n",
    "        F+=[1+min([F[i-coin] for coin in coins if coin<=i])]\n",
    "    return F[n]\n",
    "\n",
    "\n",
    "print('Amount: 18, coins: [1,9,10], Result:', min_change(18,(1,9,10)))\n",
    "print('Amount: 18, coins: [1,3,5], Result:',min_change(18,(1,3,5)))"
   ]
  },
  {
   "cell_type": "code",
   "execution_count": 129,
   "metadata": {},
   "outputs": [
    {
     "name": "stdout",
     "output_type": "stream",
     "text": [
      "Amount: 18\n",
      "Coins: (1, 3, 5)\n",
      "Matrix:\n",
      "[0 0 0]\n",
      "[1 0 0]\n",
      "[2 0 0]\n",
      "[3 1 0]\n",
      "[2 2 0]\n",
      "[3 3 1]\n",
      "[2 2 2]\n",
      "[3 3 3]\n",
      "[4 2 2]\n",
      "[3 3 3]\n",
      "[4 4 2]\n",
      "[3 3 3]\n",
      "[4 4 4]\n",
      "[5 3 3]\n",
      "[4 4 4]\n",
      "[5 5 3]\n",
      "[4 4 4]\n",
      "[5 5 5]\n",
      "[6 4 4]\n",
      "Result:\n",
      "[3, 5, 5, 5]\n"
     ]
    }
   ],
   "source": [
    "# То же самое , но теперь сохраняем в виде таблицы все результаты.\n",
    "# Для того, чтобы потом можно было не только количество, но и набор монет для размена выдать.\n",
    "import numpy as np\n",
    "\n",
    "def min_change_advanced(n: int, coins: tuple) -> list:\n",
    "    F = np.full((N+1,len(coins)),0) # Создаём таблицу-болванку\n",
    "    F[1,0] = 1 # Заполняем первый результат\n",
    "    # Это блок, в котором таблица заполняется последовательно.\n",
    "    # Проходимся двумя циклами по всем ячейкам (для всех сумм от 2 до необходимой, для каждого из номиналов монет)\n",
    "    for i in range(2,N+1):\n",
    "        for j in range(len(coins)):\n",
    "            if i >= coins[j]: # Если номинал меньше или равен сумме\n",
    "                # Тут такая запутанная конструкция с двумя проверками получилась потому, \n",
    "                # что нужно выбирать минимум именно из ненулевых значений.\n",
    "                # Если же все нули - то в результате будет единица.\n",
    "                F[i,j] = 1 +(np.min(F[i-coins[j],F[i-coins[j]]>0]) if any(F[i-coins[j]]) else 0)\n",
    "            else: # Если же номинал больше суммы, то мы этой монетой вообще воспользоваться не можем.\n",
    "                F[i,j] = 0\n",
    "    \n",
    "    # А теперь по этой таблице список монет составляем.\n",
    "    res = []\n",
    "    i = N # Начинаем с последней строки матрицы (исходная сумма)\n",
    "    while i > 0:\n",
    "        # получаем индекс наименьшего элемента строки\n",
    "        # если есть несколько равных эелементов - выбираем первый из них.\n",
    "        idx = np.where(F[i] == min(F[i,F[i]>0]))[0][0] \n",
    "        res.append(coins[idx]) # добавляем к результату\n",
    "        i -= coins[idx] # уменьшаем сумму(в нашем случае номер строки матрицы) на номинал монеты.\n",
    "        \n",
    "        \n",
    "    return F, res\n",
    "\n",
    "coins = (1,3,5)\n",
    "N = 18\n",
    "\n",
    "mat, lst = min_change_advanced(N,coins)\n",
    "print(f'Amount: {N}')\n",
    "print(f'Coins: {coins}')\n",
    "print('Matrix:',*mat,sep='\\n')\n",
    "print(f'Result:\\n{lst}')"
   ]
  },
  {
   "cell_type": "markdown",
   "metadata": {},
   "source": [
    "11.в. Задача о рюкзаке\n",
    "- Задача о сдаче(размене монет) это тоже одна из формулировок задачи о рюкзаке\n",
    "- Разных типов задачи много, с разными условиями и ограничениями\n",
    "- В самом простом виде задача следующая: Есть рюкзак вместимостью $W$, есть $n$ предметов с весами $\\{w_0, w_1, ..., w_n\\}$ и стоимостями $\\{v_0, v_1, ..., v_n\\}$. Необходимо определить какой набор предметов, помещающийся в рюкзак, обеспечит максимальную стоимость.\n",
    "- Принцип решения ровно такой же. Решаем задачу последовательно для рюкзаков меньших ёмкостей/размеров при ограниченном наборе предметов. Комбинируем результаты для получения финального."
   ]
  },
  {
   "cell_type": "code",
   "execution_count": 140,
   "metadata": {},
   "outputs": [],
   "source": [
    "items = ['guitar','tape','laptop', 'iphone']\n",
    "weights = [0,1,4,3,1]\n",
    "values = [0,1500,3000,2000,2000]\n",
    "W = 4"
   ]
  },
  {
   "cell_type": "code",
   "execution_count": 199,
   "metadata": {},
   "outputs": [],
   "source": [
    "def knapsack_0_1(W: int, weights: list, values: list, items: list):\n",
    "    m = np.zeros((len(items)+1,W+1)) # Инициализируем таблицу нулями\n",
    "    for i in range(1,len(items)+1): # цикл от 1 до количества предметов (по строкам)\n",
    "        for j in range(1,W+1): # цикл от 1 до вместимости рюкзака (по столбцам)\n",
    "            if weights[i] > j: # если вес предмета, больше чем вместимость рюкзака\n",
    "                m[i,j] = m[i-1,j] # то берём предыдущий предмет (из предыдущей строки, то есть от меньшего набора предметов)\n",
    "            else:\n",
    "               # Иначе выбираем максимум между уже найденным значением для меньшего набора предметов (предыдущая строка)\n",
    "               # и суммой стоимости текущего предмета и уже найденной стоимостью для меньшего набора для подрюкзака вместимости (i-вес текущего предмета)\n",
    "               \n",
    "               # Если проще сформулировать, мы выбираем сначала можем ли мы вообще взять предмет, и если можем, то будет ли выгоднее взять его\n",
    "               # или оставить предыдущее решение(для меньшего подрюкзака)\n",
    "                m[i,j] = max(m[i-1,j],m[i-1,j-weights[i]]+values[i])\n",
    "    \n",
    "    # Бэктрэкинг по уже заполненной таблице.\n",
    "    # Чтобы список предметов вывести.\n",
    "    # Начинаем с нижней правой ячейки\n",
    "    j = W\n",
    "    i = len(items)-1\n",
    "    res_items = []\n",
    "    while m[i,j] > 0:\n",
    "        if m[i,j] == m[i-1,j]: # Если в предыдущей строке такое же значение, значит предмет не брали.\n",
    "            i -= 1\n",
    "        else:\n",
    "            res_items.append(items[j-1]) # Добавляем предмет, вычитаем из индекса его вес, переходим к новой ячейке.\n",
    "            i -= 1\n",
    "            j -= weights[j]\n",
    "            \n",
    "    \n",
    "    return m,m[-1,-1], res_items"
   ]
  },
  {
   "cell_type": "code",
   "execution_count": 200,
   "metadata": {},
   "outputs": [
    {
     "name": "stdout",
     "output_type": "stream",
     "text": [
      "|| Item   || Weight || Value ||\n",
      "-------------------------------\n",
      "|| guitar ||      1 ||  1500 ||\n",
      "|| tape   ||      4 ||  3000 ||\n",
      "|| laptop ||      3 ||  2000 ||\n",
      "|| iphone ||      1 ||  2000 ||\n",
      "\n",
      "Matrix\n",
      " [[   0.    0.    0.    0.    0.]\n",
      " [   0. 1500. 1500. 1500. 1500.]\n",
      " [   0. 1500. 1500. 1500. 3000.]\n",
      " [   0. 1500. 1500. 2000. 3500.]\n",
      " [   0. 2000. 3500. 3500. 4000.]]\n",
      "\n",
      "Max_value: 4000.0\n",
      "Items: ['iphone', 'laptop']\n"
     ]
    }
   ],
   "source": [
    "print('|| Item   || Weight || Value ||','-'*31, sep='\\n')\n",
    "for i in range(len(items)):\n",
    "    print(f'|| {items[i]:<6} || {weights[i+1]:>6} || {values[i+1]:>5} ||')\n",
    "m,res,track = knapsack_0_1(W,weights,values,items)\n",
    "print('\\nMatrix\\n', m)\n",
    "print('\\nMax_value:', res)\n",
    "print('Items:', track)"
   ]
  },
  {
   "cell_type": "markdown",
   "metadata": {},
   "source": [
    "### 12. Алгоритм К-ближайших соседей.(KNN, K-nearest neighbours)\n",
    "- Можно использовать для классификации(путём голосования) и для регрессии(путём усреднения)\n",
    "- Вероятно самый простой алгоритм.\n",
    "- В самом простом варианте - сильно неэффективный. Но при этом очень прост в реализации.\n",
    "- Коротко смысл: \n",
    " <br>есть обучающая выборка(train) в ней N объектов с признаками(features), для каждого объекта есть целевая переменная (target).\n",
    " <br>Есть тестовая выборка из M объектов, у которых есть только признаки. \n",
    " <br>Считаем расстояние (метрики можно использовать разные) от объекта из тестовой выборки до каждого объекта из обучающей.\n",
    " <br>Выбираем K (параметр заадём сами) ближайших по метрике объектов. Смотрим на их таргеты. \n",
    " <br>В случае классификации выбираем наиболее частый таргет среди этих K. В случае регрессии можем усреднить значение этих таргетов.\n",
    "- Для классификации можно принять важность каждого из К таргетов одинаковой, либо задать им веса, в зависимости от дистанции от тестового объекта.\n",
    "- При подходе \"в лоб\" нужно считать N*M метрик. Есть более эффективные варианты, основанные на деревьях: \n",
    "  <br>BallTree и KD-Tree (Дерево шаров и к-мерное дерево соответственно).\n",
    "  <br>Их реализации сложнее, лучше расписывать отдельно."
   ]
  },
  {
   "cell_type": "code",
   "execution_count": 233,
   "metadata": {},
   "outputs": [],
   "source": [
    "# Импортируем все нужные либы\n",
    "import numpy as np\n",
    "import pandas as pd\n",
    "import matplotlib.pyplot as plt\n",
    "from sklearn.neighbors import KNeighborsClassifier\n",
    "from sklearn.metrics import accuracy_score\n",
    "from sklearn import datasets"
   ]
  },
  {
   "cell_type": "code",
   "execution_count": 248,
   "metadata": {},
   "outputs": [
    {
     "name": "stdout",
     "output_type": "stream",
     "text": [
      "(0, 'setosa') (1, 'versicolor') (2, 'virginica')\n"
     ]
    },
    {
     "data": {
      "text/html": [
       "<div>\n",
       "<style scoped>\n",
       "    .dataframe tbody tr th:only-of-type {\n",
       "        vertical-align: middle;\n",
       "    }\n",
       "\n",
       "    .dataframe tbody tr th {\n",
       "        vertical-align: top;\n",
       "    }\n",
       "\n",
       "    .dataframe thead th {\n",
       "        text-align: right;\n",
       "    }\n",
       "</style>\n",
       "<table border=\"1\" class=\"dataframe\">\n",
       "  <thead>\n",
       "    <tr style=\"text-align: right;\">\n",
       "      <th></th>\n",
       "      <th>sepal length (cm)</th>\n",
       "      <th>sepal width (cm)</th>\n",
       "      <th>petal length (cm)</th>\n",
       "      <th>petal width (cm)</th>\n",
       "      <th>class</th>\n",
       "    </tr>\n",
       "  </thead>\n",
       "  <tbody>\n",
       "    <tr>\n",
       "      <th>49</th>\n",
       "      <td>5.0</td>\n",
       "      <td>3.3</td>\n",
       "      <td>1.4</td>\n",
       "      <td>0.2</td>\n",
       "      <td>0</td>\n",
       "    </tr>\n",
       "    <tr>\n",
       "      <th>50</th>\n",
       "      <td>7.0</td>\n",
       "      <td>3.2</td>\n",
       "      <td>4.7</td>\n",
       "      <td>1.4</td>\n",
       "      <td>1</td>\n",
       "    </tr>\n",
       "    <tr>\n",
       "      <th>22</th>\n",
       "      <td>4.6</td>\n",
       "      <td>3.6</td>\n",
       "      <td>1.0</td>\n",
       "      <td>0.2</td>\n",
       "      <td>0</td>\n",
       "    </tr>\n",
       "    <tr>\n",
       "      <th>77</th>\n",
       "      <td>6.7</td>\n",
       "      <td>3.0</td>\n",
       "      <td>5.0</td>\n",
       "      <td>1.7</td>\n",
       "      <td>1</td>\n",
       "    </tr>\n",
       "    <tr>\n",
       "      <th>110</th>\n",
       "      <td>6.5</td>\n",
       "      <td>3.2</td>\n",
       "      <td>5.1</td>\n",
       "      <td>2.0</td>\n",
       "      <td>2</td>\n",
       "    </tr>\n",
       "  </tbody>\n",
       "</table>\n",
       "</div>"
      ],
      "text/plain": [
       "     sepal length (cm)  sepal width (cm)  petal length (cm)  petal width (cm)  \\\n",
       "49                 5.0               3.3                1.4               0.2   \n",
       "50                 7.0               3.2                4.7               1.4   \n",
       "22                 4.6               3.6                1.0               0.2   \n",
       "77                 6.7               3.0                5.0               1.7   \n",
       "110                6.5               3.2                5.1               2.0   \n",
       "\n",
       "     class  \n",
       "49       0  \n",
       "50       1  \n",
       "22       0  \n",
       "77       1  \n",
       "110      2  "
      ]
     },
     "execution_count": 248,
     "metadata": {},
     "output_type": "execute_result"
    }
   ],
   "source": [
    "# Грузим датасет с ирисами Фишера\n",
    "iris_ds = datasets.load_iris()\n",
    "# Создаём датафрэйм\n",
    "df = pd.DataFrame(iris_ds.data, columns=iris_ds.feature_names)\n",
    "# Добавляем таргет\n",
    "df['class'] = iris_ds.target\n",
    "# Выводим соответствие таргета названию\n",
    "print(*[(t,n) for t,n in enumerate(iris_ds.target_names)])\n",
    "# Выводим случайные 5 строк датафрэйма\n",
    "df.sample(5)"
   ]
  },
  {
   "cell_type": "markdown",
   "metadata": {},
   "source": [
    "- Нам нужно будет считать метрики. В большинстве случаев это Евклидова метрика. Но в общем случае это метрика Минковского. \n",
    "  <br>$\\large D(X,Y) = (\\sum\\limits_{i=1}^{n} |x_i-y_i|^p)^{1/p}$\n",
    "- Для некоторых задач используют косинусное расстояние.\n",
    "  <br>$\\large D_C(A,B) = 1-  \\frac {\\sum\\limits_{i=1}^{n}A_i \\cdot B_i}{\\sqrt{\\sum\\limits_{i=1}^{n}A_i^2} \\cdot \\sqrt{\\sum\\limits_{i=1}^{n}B_i^2}}$"
   ]
  },
  {
   "cell_type": "code",
   "execution_count": 379,
   "metadata": {},
   "outputs": [],
   "source": [
    "# Для удобства напишем отдельные функции для метрики Минковского и косинусного сходства.\n",
    "\n",
    "def my_minkowski(a,b,p):\n",
    "    return sum(abs(a-b)**p)**(1/p)\n",
    "\n",
    "def my_cosine(a,b):\n",
    "    return 1 - (a@b)/(sum(a**2)**0.5*sum(b**2)**0.5)"
   ]
  },
  {
   "cell_type": "code",
   "execution_count": 380,
   "metadata": {},
   "outputs": [
    {
     "name": "stdout",
     "output_type": "stream",
     "text": [
      "True\n",
      "True\n"
     ]
    }
   ],
   "source": [
    "# проверим всё ли корректно сравнив с реализациями из scipy\n",
    "\n",
    "from scipy.spatial.distance import minkowski, cosine\n",
    "\n",
    "a1 = df.iloc[0,:-1].values\n",
    "a2 = df.iloc[1,:-1].values\n",
    "\n",
    "print(my_minkowski(a1,a2,2) == minkowski(a1,a2,2))\n",
    "print(my_cosine(a1,a2) == cosine(a1,a2))"
   ]
  },
  {
   "cell_type": "code",
   "execution_count": 381,
   "metadata": {},
   "outputs": [
    {
     "data": {
      "text/plain": [
       "1"
      ]
     },
     "execution_count": 381,
     "metadata": {},
     "output_type": "execute_result"
    }
   ],
   "source": [
    "ttt = pd.Series(data=[3,3,3,1,1,1])\n",
    "ttt.mode()[0]"
   ]
  },
  {
   "cell_type": "code",
   "execution_count": 442,
   "metadata": {},
   "outputs": [],
   "source": [
    "# Подготовим данные.\n",
    "\n",
    "from sklearn.model_selection import train_test_split\n",
    "from sklearn.preprocessing import StandardScaler\n",
    "\n",
    "X = df.drop('class', axis=1)\n",
    "y = df['class']\n",
    "\n",
    "# Разобьём на тренировочную и тестовую выборки\n",
    "X_train, X_test, y_train, y_test = train_test_split(X,y,test_size=0.25,random_state=1)\n",
    "\n",
    "# Нормализуем\n",
    "scaler = StandardScaler()\n",
    "X_train = scaler.fit_transform(X_train)\n",
    "X_test = scaler.transform(X_test)"
   ]
  },
  {
   "cell_type": "code",
   "execution_count": 460,
   "metadata": {},
   "outputs": [],
   "source": [
    "def my_knn(X_train,X_test,y_train, metric='minkowski', p=1, k=5):\n",
    "    # Создаём пустой массив для предсказаний\n",
    "    res = np.array([], dtype='int')\n",
    "    # Для каждого объекта из тестовой выборки\n",
    "    for elem in X_test:\n",
    "        # В зависимости от выбранной метрики\n",
    "        if metric == 'minkowski':\n",
    "            # Считаем дистанции до всех объектов обучающей выборки\n",
    "            distances = np.apply_along_axis(lambda x: my_minkowski(x,elem,p), axis=1, arr=X_train)\n",
    "        elif metric == 'cosine':\n",
    "            distances = np.apply_along_axis(lambda x: my_cosine(x,elem), axis=1, arr=X_train)\n",
    "        # Конвертим в pd.Series, индекс задаём как у y_train. Чтобы удобно было сортировать.\n",
    "        distances = pd.Series(data=distances,index=y_train.index)\n",
    "        # Сортируем дистанции, выбираем k наименьших, по их индексам фильтруем y_train\n",
    "        # После ищем моду(наиболее часто встречающееся значение), на случай если их несколько берём только первый элемент\n",
    "        y_hat = y_train[distances.sort_values()[:k].index].mode()[0]\n",
    "        # Записываем в результирующий массив\n",
    "        res = np.append(res,y_hat)\n",
    "    return res"
   ]
  },
  {
   "cell_type": "code",
   "execution_count": 456,
   "metadata": {},
   "outputs": [
    {
     "name": "stdout",
     "output_type": "stream",
     "text": [
      "Manhattan distance: 0.9736842105263158\n",
      "Euclidean distance: 0.9736842105263158\n",
      "Cosine distance: 0.8157894736842105\n"
     ]
    }
   ],
   "source": [
    "# Тестируем\n",
    "# Манхэттенское расстояние\n",
    "my_res = my_knn(X_train,X_test,y_train)\n",
    "print('Manhattan distance:',accuracy_score(y_test,my_res))\n",
    "\n",
    "# Евклидово расстояние\n",
    "my_res = my_knn(X_train,X_test,y_train,p=2)\n",
    "print('Euclidean distance:', accuracy_score(y_test,my_res))\n",
    "\n",
    "# Косинусное расстояние\n",
    "my_res = my_knn(X_train,X_test,y_train, metric='cosine')\n",
    "print('Cosine distance:', accuracy_score(y_test,my_res))"
   ]
  },
  {
   "cell_type": "code",
   "execution_count": 459,
   "metadata": {},
   "outputs": [
    {
     "name": "stdout",
     "output_type": "stream",
     "text": [
      "Manhattan distance: 0.9736842105263158\n",
      "Euclidean distance: 0.9736842105263158\n",
      "Cosine distance: 0.8157894736842105\n"
     ]
    }
   ],
   "source": [
    "# Всё то же самое, но на базе sklearn-овского классификатора\n",
    "\n",
    "# Манхэттенское расстояние\n",
    "clf = KNeighborsClassifier(algorithm='brute',n_neighbors=5, p=1)\n",
    "clf.fit(X_train,y_train)\n",
    "test_res = clf.predict(X_test)\n",
    "print('Manhattan distance:',accuracy_score(y_test,test_res))\n",
    "\n",
    "# Евклидово расстояние\n",
    "clf = KNeighborsClassifier(algorithm='brute',n_neighbors=5, p=2)\n",
    "clf.fit(X_train,y_train)\n",
    "test_res = clf.predict(X_test)\n",
    "print('Euclidean distance:',accuracy_score(y_test,test_res))\n",
    "\n",
    "# Косинусное\n",
    "clf = KNeighborsClassifier(algorithm='brute',n_neighbors=5, metric='cosine')\n",
    "clf.fit(X_train,y_train)\n",
    "test_res = clf.predict(X_test)\n",
    "print('Cosine distance:',accuracy_score(y_test,test_res))"
   ]
  },
  {
   "cell_type": "markdown",
   "metadata": {},
   "source": [
    "**Отлично, все результаты совпадают.**"
   ]
  }
 ],
 "metadata": {
  "interpreter": {
   "hash": "ad2bdc8ecc057115af97d19610ffacc2b4e99fae6737bb82f5d7fb13d2f2c186"
  },
  "kernelspec": {
   "display_name": "Python 3.8.12 ('base')",
   "language": "python",
   "name": "python3"
  },
  "language_info": {
   "codemirror_mode": {
    "name": "ipython",
    "version": 3
   },
   "file_extension": ".py",
   "mimetype": "text/x-python",
   "name": "python",
   "nbconvert_exporter": "python",
   "pygments_lexer": "ipython3",
   "version": "3.8.12"
  },
  "orig_nbformat": 4
 },
 "nbformat": 4,
 "nbformat_minor": 2
}
